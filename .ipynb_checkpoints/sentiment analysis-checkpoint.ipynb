{
 "cells": [
  {
   "cell_type": "code",
   "execution_count": 1,
   "id": "9b980f17",
   "metadata": {},
   "outputs": [],
   "source": [
    "import pandas as pd\n",
    "import numpy as np\n",
    "import matplotlib.pyplot as plt\n",
    "import seaborn as sns\n",
    "from datetime import datetime\n",
    "import re\n",
    "import nltk\n",
    "from nltk.corpus import stopwords\n",
    "from nltk.tokenize import word_tokenize\n",
    "from wordcloud import WordCloud\n",
    "from sklearn.feature_extraction.text import CountVectorizer"
   ]
  },
  {
   "cell_type": "code",
   "execution_count": 2,
   "id": "3dddfc56",
   "metadata": {},
   "outputs": [],
   "source": [
    "train_df = pd.read_csv(\"tweets_21.csv\")\n",
    "test_df = pd.read_csv(\"tweets_labeled.csv\")"
   ]
  },
  {
   "cell_type": "code",
   "execution_count": 3,
   "id": "2841f9ef",
   "metadata": {},
   "outputs": [
    {
     "data": {
      "text/html": [
       "<div>\n",
       "<style scoped>\n",
       "    .dataframe tbody tr th:only-of-type {\n",
       "        vertical-align: middle;\n",
       "    }\n",
       "\n",
       "    .dataframe tbody tr th {\n",
       "        vertical-align: top;\n",
       "    }\n",
       "\n",
       "    .dataframe thead th {\n",
       "        text-align: right;\n",
       "    }\n",
       "</style>\n",
       "<table border=\"1\" class=\"dataframe\">\n",
       "  <thead>\n",
       "    <tr style=\"text-align: right;\">\n",
       "      <th></th>\n",
       "      <th>tweet_id</th>\n",
       "      <th>tweet</th>\n",
       "      <th>date</th>\n",
       "    </tr>\n",
       "  </thead>\n",
       "  <tbody>\n",
       "    <tr>\n",
       "      <th>0</th>\n",
       "      <td>1344798002490314752</td>\n",
       "      <td>Kardesim (12) sevdigi cocuga 00:00 da ilan-i a...</td>\n",
       "      <td>2021-01-01 03:10:03</td>\n",
       "    </tr>\n",
       "    <tr>\n",
       "      <th>1</th>\n",
       "      <td>1344799527673470977</td>\n",
       "      <td>Bu yılbaşı da saat tam 00:00'da swni seviyorum...</td>\n",
       "      <td>2021-01-01 03:16:07</td>\n",
       "    </tr>\n",
       "    <tr>\n",
       "      <th>2</th>\n",
       "      <td>1344799907719348226</td>\n",
       "      <td>tam 00.00da naptınız ben her yıl tam bu vakit ...</td>\n",
       "      <td>2021-01-01 03:17:37</td>\n",
       "    </tr>\n",
       "    <tr>\n",
       "      <th>3</th>\n",
       "      <td>1344800782802165762</td>\n",
       "      <td>00:00'da havai fişek gösterisi yapıldı tam dib...</td>\n",
       "      <td>2021-01-01 03:21:06</td>\n",
       "    </tr>\n",
       "    <tr>\n",
       "      <th>4</th>\n",
       "      <td>1344805589990453249</td>\n",
       "      <td>31 aralık saat 00.00 da yeni yılımızı kutlayan...</td>\n",
       "      <td>2021-01-01 03:40:12</td>\n",
       "    </tr>\n",
       "  </tbody>\n",
       "</table>\n",
       "</div>"
      ],
      "text/plain": [
       "              tweet_id                                              tweet  \\\n",
       "0  1344798002490314752  Kardesim (12) sevdigi cocuga 00:00 da ilan-i a...   \n",
       "1  1344799527673470977  Bu yılbaşı da saat tam 00:00'da swni seviyorum...   \n",
       "2  1344799907719348226  tam 00.00da naptınız ben her yıl tam bu vakit ...   \n",
       "3  1344800782802165762  00:00'da havai fişek gösterisi yapıldı tam dib...   \n",
       "4  1344805589990453249  31 aralık saat 00.00 da yeni yılımızı kutlayan...   \n",
       "\n",
       "                  date  \n",
       "0  2021-01-01 03:10:03  \n",
       "1  2021-01-01 03:16:07  \n",
       "2  2021-01-01 03:17:37  \n",
       "3  2021-01-01 03:21:06  \n",
       "4  2021-01-01 03:40:12  "
      ]
     },
     "execution_count": 3,
     "metadata": {},
     "output_type": "execute_result"
    }
   ],
   "source": [
    "train_df.head()"
   ]
  },
  {
   "cell_type": "code",
   "execution_count": 4,
   "id": "a6268a30",
   "metadata": {},
   "outputs": [
    {
     "data": {
      "text/html": [
       "<div>\n",
       "<style scoped>\n",
       "    .dataframe tbody tr th:only-of-type {\n",
       "        vertical-align: middle;\n",
       "    }\n",
       "\n",
       "    .dataframe tbody tr th {\n",
       "        vertical-align: top;\n",
       "    }\n",
       "\n",
       "    .dataframe thead th {\n",
       "        text-align: right;\n",
       "    }\n",
       "</style>\n",
       "<table border=\"1\" class=\"dataframe\">\n",
       "  <thead>\n",
       "    <tr style=\"text-align: right;\">\n",
       "      <th></th>\n",
       "      <th>tweet_id</th>\n",
       "      <th>tweet</th>\n",
       "      <th>date</th>\n",
       "      <th>label</th>\n",
       "    </tr>\n",
       "  </thead>\n",
       "  <tbody>\n",
       "    <tr>\n",
       "      <th>0</th>\n",
       "      <td>1606767075984375808</td>\n",
       "      <td>Berk Ali (kedim) seni çok özledim. Ölmek için ...</td>\n",
       "      <td>2022-12-24 21:41:37+00:00</td>\n",
       "      <td>1</td>\n",
       "    </tr>\n",
       "    <tr>\n",
       "      <th>1</th>\n",
       "      <td>1537178207677448193</td>\n",
       "      <td>Yani, öylesine ciddiye alacaksın ki yaşamayı, ...</td>\n",
       "      <td>2022-06-15 21:00:18+00:00</td>\n",
       "      <td>1</td>\n",
       "    </tr>\n",
       "    <tr>\n",
       "      <th>2</th>\n",
       "      <td>1536458790802972673</td>\n",
       "      <td>saçlarının gölgesinde\\nölmek ne güzeldi</td>\n",
       "      <td>2022-06-13 21:21:36+00:00</td>\n",
       "      <td>1</td>\n",
       "    </tr>\n",
       "    <tr>\n",
       "      <th>3</th>\n",
       "      <td>1495413883166760960</td>\n",
       "      <td>Öyle güzel baktın ki, gözlerime\\nsevmek değil ...</td>\n",
       "      <td>2022-02-20 15:03:47+00:00</td>\n",
       "      <td>1</td>\n",
       "    </tr>\n",
       "    <tr>\n",
       "      <th>4</th>\n",
       "      <td>1490420667614904334</td>\n",
       "      <td>sevmek biri için ölmek değil her şeye rağmen y...</td>\n",
       "      <td>2022-02-06 20:22:32+00:00</td>\n",
       "      <td>1</td>\n",
       "    </tr>\n",
       "  </tbody>\n",
       "</table>\n",
       "</div>"
      ],
      "text/plain": [
       "              tweet_id                                              tweet  \\\n",
       "0  1606767075984375808  Berk Ali (kedim) seni çok özledim. Ölmek için ...   \n",
       "1  1537178207677448193  Yani, öylesine ciddiye alacaksın ki yaşamayı, ...   \n",
       "2  1536458790802972673            saçlarının gölgesinde\\nölmek ne güzeldi   \n",
       "3  1495413883166760960  Öyle güzel baktın ki, gözlerime\\nsevmek değil ...   \n",
       "4  1490420667614904334  sevmek biri için ölmek değil her şeye rağmen y...   \n",
       "\n",
       "                        date  label  \n",
       "0  2022-12-24 21:41:37+00:00      1  \n",
       "1  2022-06-15 21:00:18+00:00      1  \n",
       "2  2022-06-13 21:21:36+00:00      1  \n",
       "3  2022-02-20 15:03:47+00:00      1  \n",
       "4  2022-02-06 20:22:32+00:00      1  "
      ]
     },
     "execution_count": 4,
     "metadata": {},
     "output_type": "execute_result"
    }
   ],
   "source": [
    "test_df.head()"
   ]
  },
  {
   "cell_type": "code",
   "execution_count": 5,
   "id": "5bb97781",
   "metadata": {},
   "outputs": [
    {
     "name": "stdout",
     "output_type": "stream",
     "text": [
      "<class 'pandas.core.frame.DataFrame'>\n",
      "RangeIndex: 13272 entries, 0 to 13271\n",
      "Data columns (total 3 columns):\n",
      " #   Column    Non-Null Count  Dtype \n",
      "---  ------    --------------  ----- \n",
      " 0   tweet_id  13272 non-null  int64 \n",
      " 1   tweet     13272 non-null  object\n",
      " 2   date      13272 non-null  object\n",
      "dtypes: int64(1), object(2)\n",
      "memory usage: 311.2+ KB\n"
     ]
    }
   ],
   "source": [
    "train_df.info()"
   ]
  },
  {
   "cell_type": "code",
   "execution_count": 6,
   "id": "485a0642",
   "metadata": {},
   "outputs": [
    {
     "name": "stdout",
     "output_type": "stream",
     "text": [
      "<class 'pandas.core.frame.DataFrame'>\n",
      "RangeIndex: 12960 entries, 0 to 12959\n",
      "Data columns (total 4 columns):\n",
      " #   Column    Non-Null Count  Dtype \n",
      "---  ------    --------------  ----- \n",
      " 0   tweet_id  12960 non-null  int64 \n",
      " 1   tweet     12959 non-null  object\n",
      " 2   date      12960 non-null  object\n",
      " 3   label     12960 non-null  int64 \n",
      "dtypes: int64(2), object(2)\n",
      "memory usage: 405.1+ KB\n"
     ]
    }
   ],
   "source": [
    "test_df.info()"
   ]
  },
  {
   "cell_type": "markdown",
   "id": "bac82903",
   "metadata": {},
   "source": [
    "## Data Cleaning and Future Extraction"
   ]
  },
  {
   "cell_type": "markdown",
   "id": "018fe75c",
   "metadata": {},
   "source": [
    "#### Cleaning\n",
    "1. localize and seperate \"date\" column for EDA\n",
    "2. change all tweets to lower case\n",
    "3. emoticon classification\n",
    "4. replace punctuations with space \n",
    "5. replace special characters and number with space\n",
    "6. remove tweets with one word\n",
    "7. tokenize the tweet column\n",
    "8. remove stop words from the dataset"
   ]
  },
  {
   "cell_type": "markdown",
   "id": "8caaf1d2",
   "metadata": {},
   "source": [
    "##### 1. localize and seperate \"date\" column for EDA"
   ]
  },
  {
   "cell_type": "code",
   "execution_count": 7,
   "id": "9ecdaac7",
   "metadata": {},
   "outputs": [
    {
     "data": {
      "text/plain": [
       "tweet_id    0\n",
       "tweet       1\n",
       "date        0\n",
       "label       0\n",
       "dtype: int64"
      ]
     },
     "execution_count": 7,
     "metadata": {},
     "output_type": "execute_result"
    }
   ],
   "source": [
    "test_df.isna().sum()"
   ]
  },
  {
   "cell_type": "code",
   "execution_count": 8,
   "id": "35570ea2",
   "metadata": {},
   "outputs": [
    {
     "data": {
      "text/plain": [
       "tweet_id    0\n",
       "tweet       0\n",
       "date        0\n",
       "dtype: int64"
      ]
     },
     "execution_count": 8,
     "metadata": {},
     "output_type": "execute_result"
    }
   ],
   "source": [
    "train_df.isna().sum()"
   ]
  },
  {
   "cell_type": "code",
   "execution_count": 9,
   "id": "9d75c945",
   "metadata": {},
   "outputs": [],
   "source": [
    "test_df[\"date\"] = pd.to_datetime(test_df[\"date\"])\n",
    "test_df['date'] = test_df['date'].dt.tz_localize(None)\n",
    "train_df[\"date\"] = pd.to_datetime(train_df[\"date\"])\n",
    "train_df['date'] = test_df['date'].dt.tz_localize(None)"
   ]
  },
  {
   "cell_type": "code",
   "execution_count": 10,
   "id": "4c93c10b",
   "metadata": {},
   "outputs": [],
   "source": [
    "test_df[\"month\"] = test_df[\"date\"].dt.month_name()\n",
    "train_df[\"month\"] = train_df[\"date\"].dt.month_name()"
   ]
  },
  {
   "cell_type": "code",
   "execution_count": 11,
   "id": "379eb3be",
   "metadata": {},
   "outputs": [],
   "source": [
    "def replace_month_names(df, column_name):\n",
    "    month_translation = {\n",
    "        'December': 'Aralık',\n",
    "        'January': 'Ocak',\n",
    "        'February': 'Şubat',\n",
    "        'March': 'Mart',\n",
    "        'April': 'Nisan',\n",
    "        'May': 'Mayıs',\n",
    "        'June': 'Haziran',\n",
    "        'July': 'Temmuz',\n",
    "        'August': 'Ağustos',\n",
    "        'September': 'Eylül',\n",
    "        'October': 'Ekim',\n",
    "        'November': 'Kasım'\n",
    "    }\n",
    "    df[column_name] = df[column_name].replace(month_translation)\n",
    "    return df\n",
    "\n",
    "test_df = replace_month_names(test_df, 'month')\n",
    "train_df = replace_month_names(train_df, 'month')"
   ]
  },
  {
   "cell_type": "code",
   "execution_count": 12,
   "id": "e4da25c2",
   "metadata": {},
   "outputs": [],
   "source": [
    "seasons = {'Ocak': 'Kış',\n",
    "           'Şubat': 'Kış',\n",
    "           'Mart': 'İlkbahar',\n",
    "           'Nisan': 'İlkbahar',\n",
    "           'Mayıs': 'İlkbahar',\n",
    "           'Haziran': 'Yaz',\n",
    "           'Temmuz': 'Yaz',\n",
    "           'Ağustos': 'Yaz',\n",
    "           'Eylül': 'Sonbahar',\n",
    "           'Ekim': 'Sonbahar',\n",
    "           'Kasım': 'Sonbahar',\n",
    "           'Aralık': 'Kış'}\n",
    "test_df['seasons'] = test_df['month'].map(seasons)\n",
    "train_df['seasons'] = train_df['month'].map(seasons)"
   ]
  },
  {
   "cell_type": "code",
   "execution_count": 13,
   "id": "b9605628",
   "metadata": {},
   "outputs": [],
   "source": [
    "test_df = test_df.dropna()\n",
    "train_df = train_df.dropna()"
   ]
  },
  {
   "cell_type": "code",
   "execution_count": 14,
   "id": "2ba4b3df",
   "metadata": {},
   "outputs": [],
   "source": [
    "test_df[\"days\"] = [date.strftime('%A') for date in test_df[\"date\"]]\n",
    "train_df[\"days\"] = [date.strftime('%A') for date in train_df[\"date\"]]"
   ]
  },
  {
   "cell_type": "code",
   "execution_count": 15,
   "id": "b0ff2eb4",
   "metadata": {},
   "outputs": [],
   "source": [
    "def replace_day_names(df,column_name):\n",
    "    day_translation = {\"Monday\" : \"Pazartesi\",\n",
    "                                 \"Tuesday\" : \"Salı\",\n",
    "                                 \"Wednesday\" : \"Çarşamba\",\n",
    "                                 \"Thursday\": \"Perşembe\",\n",
    "                                 \"Friday\" : \"Cuma\",\n",
    "                                 \"Saturday\" : \"Cumartesi\",\n",
    "                                 \"Sunday\": \"Pazar\"}\n",
    "    df[column_name] = df[column_name].replace(day_translation)\n",
    "    return df\n",
    "\n",
    "test_df = replace_day_names(test_df,\"days\")\n",
    "train_df = replace_day_names(train_df,\"days\")"
   ]
  },
  {
   "cell_type": "code",
   "execution_count": 16,
   "id": "5c39d5e1",
   "metadata": {},
   "outputs": [],
   "source": [
    "test_df['hour'] = test_df['date'].dt.hour\n",
    "test_df['4hour_interval'] = (test_df['hour'] // 2) * 2\n",
    "interval = {0: '0-2',\n",
    "            2: '2-4',\n",
    "            4: '4-6',\n",
    "            6: '6-8',\n",
    "            8: '8-10',\n",
    "            10: '10-12',\n",
    "            12: '12-14',\n",
    "            14: '14-16',\n",
    "            16: '16-18',\n",
    "            18: '18-20',\n",
    "            20: '20-22',\n",
    "            22: '22-24'\n",
    "            }\n",
    "\n",
    "train_df['hour'] = train_df['date'].dt.hour\n",
    "train_df['4hour_interval'] = (train_df['hour'] // 2) * 2\n",
    "interval = {0: '0-2',\n",
    "            2: '2-4',\n",
    "            4: '4-6',\n",
    "            6: '6-8',\n",
    "            8: '8-10',\n",
    "            10: '10-12',\n",
    "            12: '12-14',\n",
    "            14: '14-16',\n",
    "            16: '16-18',\n",
    "            18: '18-20',\n",
    "            20: '20-22',\n",
    "            22: '22-24'\n",
    "            }"
   ]
  },
  {
   "cell_type": "code",
   "execution_count": 17,
   "id": "055f337e",
   "metadata": {},
   "outputs": [],
   "source": [
    "def replace_hour_interval(df,column_name):\n",
    "    hour_tranlation = { \"0-2\": \"22-02\",\n",
    "                        \"22-24\": \"22-02\",\n",
    "                        \"2-4\": \"02-06\",\n",
    "                        \"4-6\": \"02-06\",\n",
    "                        \"6-8\": \"06-10\",\n",
    "                        \"8-10\": \"06-10\",\n",
    "                        \"10-12\": \"10-14\",\n",
    "                        \"12-14\": \"10-14\",\n",
    "                        \"14-16\": \"14-18\",\n",
    "                        \"16-18\": \"14-18\",\n",
    "                        \"18-20\": \"18-22\",\n",
    "                        \"20-22\": \"18-22\"}\n",
    "    df[column_name] = df[column_name].replace(hour_tranlation)\n",
    "    return df\n",
    "\n",
    "test_df = replace_hour_interval(test_df,\"4hour_interval\")\n",
    "train_df = replace_hour_interval(train_df,\"4hour_interval\")"
   ]
  },
  {
   "cell_type": "code",
   "execution_count": 18,
   "id": "2b56d542",
   "metadata": {},
   "outputs": [],
   "source": [
    "test_df.drop([\"4hour_interval\", \"hour\"], axis=1, inplace=True)\n",
    "train_df.drop([\"4hour_interval\", \"hour\"], axis=1, inplace=True)"
   ]
  },
  {
   "cell_type": "code",
   "execution_count": 19,
   "id": "cc3b2f23",
   "metadata": {},
   "outputs": [
    {
     "data": {
      "text/html": [
       "<div>\n",
       "<style scoped>\n",
       "    .dataframe tbody tr th:only-of-type {\n",
       "        vertical-align: middle;\n",
       "    }\n",
       "\n",
       "    .dataframe tbody tr th {\n",
       "        vertical-align: top;\n",
       "    }\n",
       "\n",
       "    .dataframe thead th {\n",
       "        text-align: right;\n",
       "    }\n",
       "</style>\n",
       "<table border=\"1\" class=\"dataframe\">\n",
       "  <thead>\n",
       "    <tr style=\"text-align: right;\">\n",
       "      <th></th>\n",
       "      <th>tweet_id</th>\n",
       "      <th>tweet</th>\n",
       "      <th>date</th>\n",
       "      <th>label</th>\n",
       "      <th>month</th>\n",
       "      <th>seasons</th>\n",
       "      <th>days</th>\n",
       "    </tr>\n",
       "  </thead>\n",
       "  <tbody>\n",
       "    <tr>\n",
       "      <th>0</th>\n",
       "      <td>1606767075984375808</td>\n",
       "      <td>Berk Ali (kedim) seni çok özledim. Ölmek için ...</td>\n",
       "      <td>2022-12-24 21:41:37</td>\n",
       "      <td>1</td>\n",
       "      <td>Aralık</td>\n",
       "      <td>Kış</td>\n",
       "      <td>Cumartesi</td>\n",
       "    </tr>\n",
       "    <tr>\n",
       "      <th>1</th>\n",
       "      <td>1537178207677448193</td>\n",
       "      <td>Yani, öylesine ciddiye alacaksın ki yaşamayı, ...</td>\n",
       "      <td>2022-06-15 21:00:18</td>\n",
       "      <td>1</td>\n",
       "      <td>Haziran</td>\n",
       "      <td>Yaz</td>\n",
       "      <td>Çarşamba</td>\n",
       "    </tr>\n",
       "    <tr>\n",
       "      <th>2</th>\n",
       "      <td>1536458790802972673</td>\n",
       "      <td>saçlarının gölgesinde\\nölmek ne güzeldi</td>\n",
       "      <td>2022-06-13 21:21:36</td>\n",
       "      <td>1</td>\n",
       "      <td>Haziran</td>\n",
       "      <td>Yaz</td>\n",
       "      <td>Pazartesi</td>\n",
       "    </tr>\n",
       "    <tr>\n",
       "      <th>3</th>\n",
       "      <td>1495413883166760960</td>\n",
       "      <td>Öyle güzel baktın ki, gözlerime\\nsevmek değil ...</td>\n",
       "      <td>2022-02-20 15:03:47</td>\n",
       "      <td>1</td>\n",
       "      <td>Şubat</td>\n",
       "      <td>Kış</td>\n",
       "      <td>Pazar</td>\n",
       "    </tr>\n",
       "    <tr>\n",
       "      <th>4</th>\n",
       "      <td>1490420667614904334</td>\n",
       "      <td>sevmek biri için ölmek değil her şeye rağmen y...</td>\n",
       "      <td>2022-02-06 20:22:32</td>\n",
       "      <td>1</td>\n",
       "      <td>Şubat</td>\n",
       "      <td>Kış</td>\n",
       "      <td>Pazar</td>\n",
       "    </tr>\n",
       "  </tbody>\n",
       "</table>\n",
       "</div>"
      ],
      "text/plain": [
       "              tweet_id                                              tweet  \\\n",
       "0  1606767075984375808  Berk Ali (kedim) seni çok özledim. Ölmek için ...   \n",
       "1  1537178207677448193  Yani, öylesine ciddiye alacaksın ki yaşamayı, ...   \n",
       "2  1536458790802972673            saçlarının gölgesinde\\nölmek ne güzeldi   \n",
       "3  1495413883166760960  Öyle güzel baktın ki, gözlerime\\nsevmek değil ...   \n",
       "4  1490420667614904334  sevmek biri için ölmek değil her şeye rağmen y...   \n",
       "\n",
       "                 date  label    month seasons       days  \n",
       "0 2022-12-24 21:41:37      1   Aralık     Kış  Cumartesi  \n",
       "1 2022-06-15 21:00:18      1  Haziran     Yaz   Çarşamba  \n",
       "2 2022-06-13 21:21:36      1  Haziran     Yaz  Pazartesi  \n",
       "3 2022-02-20 15:03:47      1    Şubat     Kış      Pazar  \n",
       "4 2022-02-06 20:22:32      1    Şubat     Kış      Pazar  "
      ]
     },
     "execution_count": 19,
     "metadata": {},
     "output_type": "execute_result"
    }
   ],
   "source": [
    "test_df.head()"
   ]
  },
  {
   "cell_type": "code",
   "execution_count": 20,
   "id": "5ceded06",
   "metadata": {},
   "outputs": [
    {
     "data": {
      "text/html": [
       "<div>\n",
       "<style scoped>\n",
       "    .dataframe tbody tr th:only-of-type {\n",
       "        vertical-align: middle;\n",
       "    }\n",
       "\n",
       "    .dataframe tbody tr th {\n",
       "        vertical-align: top;\n",
       "    }\n",
       "\n",
       "    .dataframe thead th {\n",
       "        text-align: right;\n",
       "    }\n",
       "</style>\n",
       "<table border=\"1\" class=\"dataframe\">\n",
       "  <thead>\n",
       "    <tr style=\"text-align: right;\">\n",
       "      <th></th>\n",
       "      <th>tweet_id</th>\n",
       "      <th>tweet</th>\n",
       "      <th>date</th>\n",
       "      <th>month</th>\n",
       "      <th>seasons</th>\n",
       "      <th>days</th>\n",
       "    </tr>\n",
       "  </thead>\n",
       "  <tbody>\n",
       "    <tr>\n",
       "      <th>0</th>\n",
       "      <td>1344798002490314752</td>\n",
       "      <td>Kardesim (12) sevdigi cocuga 00:00 da ilan-i a...</td>\n",
       "      <td>2022-12-24 21:41:37</td>\n",
       "      <td>Aralık</td>\n",
       "      <td>Kış</td>\n",
       "      <td>Cumartesi</td>\n",
       "    </tr>\n",
       "    <tr>\n",
       "      <th>1</th>\n",
       "      <td>1344799527673470977</td>\n",
       "      <td>Bu yılbaşı da saat tam 00:00'da swni seviyorum...</td>\n",
       "      <td>2022-06-15 21:00:18</td>\n",
       "      <td>Haziran</td>\n",
       "      <td>Yaz</td>\n",
       "      <td>Çarşamba</td>\n",
       "    </tr>\n",
       "    <tr>\n",
       "      <th>2</th>\n",
       "      <td>1344799907719348226</td>\n",
       "      <td>tam 00.00da naptınız ben her yıl tam bu vakit ...</td>\n",
       "      <td>2022-06-13 21:21:36</td>\n",
       "      <td>Haziran</td>\n",
       "      <td>Yaz</td>\n",
       "      <td>Pazartesi</td>\n",
       "    </tr>\n",
       "    <tr>\n",
       "      <th>3</th>\n",
       "      <td>1344800782802165762</td>\n",
       "      <td>00:00'da havai fişek gösterisi yapıldı tam dib...</td>\n",
       "      <td>2022-02-20 15:03:47</td>\n",
       "      <td>Şubat</td>\n",
       "      <td>Kış</td>\n",
       "      <td>Pazar</td>\n",
       "    </tr>\n",
       "    <tr>\n",
       "      <th>4</th>\n",
       "      <td>1344805589990453249</td>\n",
       "      <td>31 aralık saat 00.00 da yeni yılımızı kutlayan...</td>\n",
       "      <td>2022-02-06 20:22:32</td>\n",
       "      <td>Şubat</td>\n",
       "      <td>Kış</td>\n",
       "      <td>Pazar</td>\n",
       "    </tr>\n",
       "  </tbody>\n",
       "</table>\n",
       "</div>"
      ],
      "text/plain": [
       "              tweet_id                                              tweet  \\\n",
       "0  1344798002490314752  Kardesim (12) sevdigi cocuga 00:00 da ilan-i a...   \n",
       "1  1344799527673470977  Bu yılbaşı da saat tam 00:00'da swni seviyorum...   \n",
       "2  1344799907719348226  tam 00.00da naptınız ben her yıl tam bu vakit ...   \n",
       "3  1344800782802165762  00:00'da havai fişek gösterisi yapıldı tam dib...   \n",
       "4  1344805589990453249  31 aralık saat 00.00 da yeni yılımızı kutlayan...   \n",
       "\n",
       "                 date    month seasons       days  \n",
       "0 2022-12-24 21:41:37   Aralık     Kış  Cumartesi  \n",
       "1 2022-06-15 21:00:18  Haziran     Yaz   Çarşamba  \n",
       "2 2022-06-13 21:21:36  Haziran     Yaz  Pazartesi  \n",
       "3 2022-02-20 15:03:47    Şubat     Kış      Pazar  \n",
       "4 2022-02-06 20:22:32    Şubat     Kış      Pazar  "
      ]
     },
     "execution_count": 20,
     "metadata": {},
     "output_type": "execute_result"
    }
   ],
   "source": [
    "train_df.head()"
   ]
  },
  {
   "cell_type": "code",
   "execution_count": 21,
   "id": "556e8419",
   "metadata": {},
   "outputs": [
    {
     "data": {
      "text/html": [
       "<div>\n",
       "<style scoped>\n",
       "    .dataframe tbody tr th:only-of-type {\n",
       "        vertical-align: middle;\n",
       "    }\n",
       "\n",
       "    .dataframe tbody tr th {\n",
       "        vertical-align: top;\n",
       "    }\n",
       "\n",
       "    .dataframe thead th {\n",
       "        text-align: right;\n",
       "    }\n",
       "</style>\n",
       "<table border=\"1\" class=\"dataframe\">\n",
       "  <thead>\n",
       "    <tr style=\"text-align: right;\">\n",
       "      <th></th>\n",
       "      <th>tweet_id</th>\n",
       "      <th>tweet</th>\n",
       "      <th>date</th>\n",
       "      <th>month</th>\n",
       "      <th>seasons</th>\n",
       "      <th>days</th>\n",
       "      <th>label</th>\n",
       "    </tr>\n",
       "  </thead>\n",
       "  <tbody>\n",
       "    <tr>\n",
       "      <th>0</th>\n",
       "      <td>1344798002490314752</td>\n",
       "      <td>Kardesim (12) sevdigi cocuga 00:00 da ilan-i a...</td>\n",
       "      <td>2022-12-24 21:41:37</td>\n",
       "      <td>Aralık</td>\n",
       "      <td>Kış</td>\n",
       "      <td>Cumartesi</td>\n",
       "      <td>NaN</td>\n",
       "    </tr>\n",
       "    <tr>\n",
       "      <th>1</th>\n",
       "      <td>1344799527673470977</td>\n",
       "      <td>Bu yılbaşı da saat tam 00:00'da swni seviyorum...</td>\n",
       "      <td>2022-06-15 21:00:18</td>\n",
       "      <td>Haziran</td>\n",
       "      <td>Yaz</td>\n",
       "      <td>Çarşamba</td>\n",
       "      <td>NaN</td>\n",
       "    </tr>\n",
       "    <tr>\n",
       "      <th>2</th>\n",
       "      <td>1344799907719348226</td>\n",
       "      <td>tam 00.00da naptınız ben her yıl tam bu vakit ...</td>\n",
       "      <td>2022-06-13 21:21:36</td>\n",
       "      <td>Haziran</td>\n",
       "      <td>Yaz</td>\n",
       "      <td>Pazartesi</td>\n",
       "      <td>NaN</td>\n",
       "    </tr>\n",
       "    <tr>\n",
       "      <th>3</th>\n",
       "      <td>1344800782802165762</td>\n",
       "      <td>00:00'da havai fişek gösterisi yapıldı tam dib...</td>\n",
       "      <td>2022-02-20 15:03:47</td>\n",
       "      <td>Şubat</td>\n",
       "      <td>Kış</td>\n",
       "      <td>Pazar</td>\n",
       "      <td>NaN</td>\n",
       "    </tr>\n",
       "    <tr>\n",
       "      <th>4</th>\n",
       "      <td>1344805589990453249</td>\n",
       "      <td>31 aralık saat 00.00 da yeni yılımızı kutlayan...</td>\n",
       "      <td>2022-02-06 20:22:32</td>\n",
       "      <td>Şubat</td>\n",
       "      <td>Kış</td>\n",
       "      <td>Pazar</td>\n",
       "      <td>NaN</td>\n",
       "    </tr>\n",
       "  </tbody>\n",
       "</table>\n",
       "</div>"
      ],
      "text/plain": [
       "              tweet_id                                              tweet  \\\n",
       "0  1344798002490314752  Kardesim (12) sevdigi cocuga 00:00 da ilan-i a...   \n",
       "1  1344799527673470977  Bu yılbaşı da saat tam 00:00'da swni seviyorum...   \n",
       "2  1344799907719348226  tam 00.00da naptınız ben her yıl tam bu vakit ...   \n",
       "3  1344800782802165762  00:00'da havai fişek gösterisi yapıldı tam dib...   \n",
       "4  1344805589990453249  31 aralık saat 00.00 da yeni yılımızı kutlayan...   \n",
       "\n",
       "                 date    month seasons       days  label  \n",
       "0 2022-12-24 21:41:37   Aralık     Kış  Cumartesi    NaN  \n",
       "1 2022-06-15 21:00:18  Haziran     Yaz   Çarşamba    NaN  \n",
       "2 2022-06-13 21:21:36  Haziran     Yaz  Pazartesi    NaN  \n",
       "3 2022-02-20 15:03:47    Şubat     Kış      Pazar    NaN  \n",
       "4 2022-02-06 20:22:32    Şubat     Kış      Pazar    NaN  "
      ]
     },
     "execution_count": 21,
     "metadata": {},
     "output_type": "execute_result"
    }
   ],
   "source": [
    "combined_df = pd.concat([train_df,test_df,], ignore_index = True)\n",
    "combined_df.head()"
   ]
  },
  {
   "cell_type": "code",
   "execution_count": 22,
   "id": "2f4457cd",
   "metadata": {},
   "outputs": [
    {
     "name": "stdout",
     "output_type": "stream",
     "text": [
      "<class 'pandas.core.frame.DataFrame'>\n",
      "RangeIndex: 25919 entries, 0 to 25918\n",
      "Data columns (total 7 columns):\n",
      " #   Column    Non-Null Count  Dtype         \n",
      "---  ------    --------------  -----         \n",
      " 0   tweet_id  25919 non-null  int64         \n",
      " 1   tweet     25919 non-null  object        \n",
      " 2   date      25919 non-null  datetime64[ns]\n",
      " 3   month     25919 non-null  object        \n",
      " 4   seasons   25919 non-null  object        \n",
      " 5   days      25919 non-null  object        \n",
      " 6   label     12959 non-null  float64       \n",
      "dtypes: datetime64[ns](1), float64(1), int64(1), object(4)\n",
      "memory usage: 1.4+ MB\n"
     ]
    }
   ],
   "source": [
    "combined_df.info()"
   ]
  },
  {
   "cell_type": "markdown",
   "id": "1fef2f50",
   "metadata": {},
   "source": [
    "##### 2. change all tweets to lower case"
   ]
  },
  {
   "cell_type": "code",
   "execution_count": 23,
   "id": "11598ea5",
   "metadata": {},
   "outputs": [],
   "source": [
    "combined_df[\"tweet\"] = combined_df[\"tweet\"].astype(str)\n",
    "train_df[\"tweet\"] = train_df[\"tweet\"].astype(str)\n",
    "test_df[\"tweet\"] = test_df[\"tweet\"].astype(str)"
   ]
  },
  {
   "cell_type": "code",
   "execution_count": 24,
   "id": "16223c86",
   "metadata": {},
   "outputs": [],
   "source": [
    "combined_df[\"tweet\"] = combined_df[\"tweet\"].apply(lambda str1: str1.lower())\n",
    "train_df[\"tweet\"] = train_df[\"tweet\"].apply(lambda str2: str2.lower())\n",
    "test_df[\"tweet\"] = test_df[\"tweet\"].apply(lambda str3: str3.lower())"
   ]
  },
  {
   "cell_type": "markdown",
   "id": "561334e2",
   "metadata": {},
   "source": [
    "##### 3. emoticon classification"
   ]
  },
  {
   "cell_type": "code",
   "execution_count": 25,
   "id": "9df0505b",
   "metadata": {},
   "outputs": [],
   "source": [
    "emoticon_dict = {\n",
    "\":)\": \"happy\",\n",
    "\":‑)\": \"happy\",\n",
    "\":-]\": \"happy\",\n",
    "\":-3\": \"happy\",\n",
    "\":->\": \"happy\",\n",
    "\"8-)\": \"happy\",\n",
    "\":-}\": \"happy\",\n",
    "\":o)\": \"happy\",\n",
    "\":c)\": \"happy\",\n",
    "\":^)\": \"happy\",\n",
    "\"=]\": \"happy\",\n",
    "\"=)\": \"happy\",\n",
    "\"<3\": \"happy\",\n",
    "\":-(\": \"sad\",\n",
    "\":(\": \"sad\",\n",
    "\":c\": \"sad\",\n",
    "\":<\": \"sad\",\n",
    "\":[\": \"sad\",\n",
    "\">:[\": \"sad\",\n",
    "\":{\": \"sad\",\n",
    "\">:(\": \"sad\",\n",
    "\":-c\": \"sad\",\n",
    "\":-< \": \"sad\",\n",
    "\":-[\": \"sad\",\n",
    "\":-||\": \"sad\"\n",
    "}"
   ]
  },
  {
   "cell_type": "code",
   "execution_count": 26,
   "id": "d0aecca1",
   "metadata": {},
   "outputs": [],
   "source": [
    "def classification(text, dictionary):\n",
    "    for word in text.split():\n",
    "        if word.lower() in dictionary:\n",
    "            if word.lower() in text.split():\n",
    "                text = text.replace(word, dictionary[word.lower()])\n",
    "    return text"
   ]
  },
  {
   "cell_type": "code",
   "execution_count": 27,
   "id": "d8dbbe3e",
   "metadata": {},
   "outputs": [],
   "source": [
    "combined_df[\"tweet\"] = combined_df[\"tweet\"].apply(lambda x: classification(x,emoticon_dict))\n",
    "train_df[\"tweet\"] = train_df[\"tweet\"].apply(lambda x: classification(x,emoticon_dict))\n",
    "test_df[\"tweet\"] = test_df[\"tweet\"].apply(lambda x: classification(x,emoticon_dict))"
   ]
  },
  {
   "cell_type": "code",
   "execution_count": 28,
   "id": "e6164900",
   "metadata": {},
   "outputs": [
    {
     "data": {
      "text/html": [
       "<div>\n",
       "<style scoped>\n",
       "    .dataframe tbody tr th:only-of-type {\n",
       "        vertical-align: middle;\n",
       "    }\n",
       "\n",
       "    .dataframe tbody tr th {\n",
       "        vertical-align: top;\n",
       "    }\n",
       "\n",
       "    .dataframe thead th {\n",
       "        text-align: right;\n",
       "    }\n",
       "</style>\n",
       "<table border=\"1\" class=\"dataframe\">\n",
       "  <thead>\n",
       "    <tr style=\"text-align: right;\">\n",
       "      <th></th>\n",
       "      <th>tweet_id</th>\n",
       "      <th>tweet</th>\n",
       "      <th>date</th>\n",
       "      <th>month</th>\n",
       "      <th>seasons</th>\n",
       "      <th>days</th>\n",
       "      <th>label</th>\n",
       "    </tr>\n",
       "  </thead>\n",
       "  <tbody>\n",
       "    <tr>\n",
       "      <th>0</th>\n",
       "      <td>1344798002490314752</td>\n",
       "      <td>kardesim (12) sevdigi cocuga 00:00 da ilan-i a...</td>\n",
       "      <td>2022-12-24 21:41:37</td>\n",
       "      <td>Aralık</td>\n",
       "      <td>Kış</td>\n",
       "      <td>Cumartesi</td>\n",
       "      <td>NaN</td>\n",
       "    </tr>\n",
       "    <tr>\n",
       "      <th>1</th>\n",
       "      <td>1344799527673470977</td>\n",
       "      <td>bu yılbaşı da saat tam 00:00'da swni seviyorum...</td>\n",
       "      <td>2022-06-15 21:00:18</td>\n",
       "      <td>Haziran</td>\n",
       "      <td>Yaz</td>\n",
       "      <td>Çarşamba</td>\n",
       "      <td>NaN</td>\n",
       "    </tr>\n",
       "    <tr>\n",
       "      <th>2</th>\n",
       "      <td>1344799907719348226</td>\n",
       "      <td>tam 00.00da naptınız ben her yıl tam bu vakit ...</td>\n",
       "      <td>2022-06-13 21:21:36</td>\n",
       "      <td>Haziran</td>\n",
       "      <td>Yaz</td>\n",
       "      <td>Pazartesi</td>\n",
       "      <td>NaN</td>\n",
       "    </tr>\n",
       "    <tr>\n",
       "      <th>3</th>\n",
       "      <td>1344800782802165762</td>\n",
       "      <td>00:00'da havai fişek gösterisi yapıldı tam dib...</td>\n",
       "      <td>2022-02-20 15:03:47</td>\n",
       "      <td>Şubat</td>\n",
       "      <td>Kış</td>\n",
       "      <td>Pazar</td>\n",
       "      <td>NaN</td>\n",
       "    </tr>\n",
       "    <tr>\n",
       "      <th>4</th>\n",
       "      <td>1344805589990453249</td>\n",
       "      <td>31 aralık saat 00.00 da yeni yılımızı kutlayan...</td>\n",
       "      <td>2022-02-06 20:22:32</td>\n",
       "      <td>Şubat</td>\n",
       "      <td>Kış</td>\n",
       "      <td>Pazar</td>\n",
       "      <td>NaN</td>\n",
       "    </tr>\n",
       "  </tbody>\n",
       "</table>\n",
       "</div>"
      ],
      "text/plain": [
       "              tweet_id                                              tweet  \\\n",
       "0  1344798002490314752  kardesim (12) sevdigi cocuga 00:00 da ilan-i a...   \n",
       "1  1344799527673470977  bu yılbaşı da saat tam 00:00'da swni seviyorum...   \n",
       "2  1344799907719348226  tam 00.00da naptınız ben her yıl tam bu vakit ...   \n",
       "3  1344800782802165762  00:00'da havai fişek gösterisi yapıldı tam dib...   \n",
       "4  1344805589990453249  31 aralık saat 00.00 da yeni yılımızı kutlayan...   \n",
       "\n",
       "                 date    month seasons       days  label  \n",
       "0 2022-12-24 21:41:37   Aralık     Kış  Cumartesi    NaN  \n",
       "1 2022-06-15 21:00:18  Haziran     Yaz   Çarşamba    NaN  \n",
       "2 2022-06-13 21:21:36  Haziran     Yaz  Pazartesi    NaN  \n",
       "3 2022-02-20 15:03:47    Şubat     Kış      Pazar    NaN  \n",
       "4 2022-02-06 20:22:32    Şubat     Kış      Pazar    NaN  "
      ]
     },
     "execution_count": 28,
     "metadata": {},
     "output_type": "execute_result"
    }
   ],
   "source": [
    "combined_df.head()"
   ]
  },
  {
   "cell_type": "markdown",
   "id": "1a187165",
   "metadata": {},
   "source": [
    "##### 4. replace punctuations with space"
   ]
  },
  {
   "cell_type": "code",
   "execution_count": 29,
   "id": "d54c3ec5",
   "metadata": {},
   "outputs": [],
   "source": [
    "combined_df[\"tweet\"] = combined_df[\"tweet\"].apply(lambda x: re.sub(r'[^\\w\\s]',' ',x))\n",
    "train_df[\"tweet\"] = train_df[\"tweet\"].apply(lambda x: re.sub(r'[^\\w\\s]',' ',x))\n",
    "test_df[\"tweet\"] = test_df[\"tweet\"].apply(lambda x: re.sub(r'[^\\w\\s]',' ',x))"
   ]
  },
  {
   "cell_type": "markdown",
   "id": "d93f1dd2",
   "metadata": {},
   "source": [
    "##### 5. replace special characters and number with space"
   ]
  },
  {
   "cell_type": "code",
   "execution_count": 30,
   "id": "50aa878c",
   "metadata": {},
   "outputs": [],
   "source": [
    "combined_df[\"tweet\"] = combined_df[\"tweet\"].apply(lambda x: re.sub(r'[^a-zA-ZğüşıöçĞÜŞİÖÇ\\s]|\\d+',' ',x))\n",
    "train_df[\"tweet\"] = train_df[\"tweet\"].apply(lambda x: re.sub(r'[^a-zA-ZğüşıöçĞÜŞİÖÇ\\s]|\\d+',' ',x))\n",
    "test_df[\"tweet\"] = test_df[\"tweet\"].apply(lambda x: re.sub(r'[^a-zA-ZğüşıöçĞÜŞİÖÇ\\s]|\\d+',' ',x))"
   ]
  },
  {
   "cell_type": "code",
   "execution_count": 31,
   "id": "08117caf",
   "metadata": {},
   "outputs": [
    {
     "data": {
      "text/html": [
       "<div>\n",
       "<style scoped>\n",
       "    .dataframe tbody tr th:only-of-type {\n",
       "        vertical-align: middle;\n",
       "    }\n",
       "\n",
       "    .dataframe tbody tr th {\n",
       "        vertical-align: top;\n",
       "    }\n",
       "\n",
       "    .dataframe thead th {\n",
       "        text-align: right;\n",
       "    }\n",
       "</style>\n",
       "<table border=\"1\" class=\"dataframe\">\n",
       "  <thead>\n",
       "    <tr style=\"text-align: right;\">\n",
       "      <th></th>\n",
       "      <th>tweet_id</th>\n",
       "      <th>tweet</th>\n",
       "      <th>date</th>\n",
       "      <th>month</th>\n",
       "      <th>seasons</th>\n",
       "      <th>days</th>\n",
       "      <th>label</th>\n",
       "    </tr>\n",
       "  </thead>\n",
       "  <tbody>\n",
       "    <tr>\n",
       "      <th>0</th>\n",
       "      <td>1344798002490314752</td>\n",
       "      <td>kardesim      sevdigi cocuga       da ilan i a...</td>\n",
       "      <td>2022-12-24 21:41:37</td>\n",
       "      <td>Aralık</td>\n",
       "      <td>Kış</td>\n",
       "      <td>Cumartesi</td>\n",
       "      <td>NaN</td>\n",
       "    </tr>\n",
       "    <tr>\n",
       "      <th>1</th>\n",
       "      <td>1344799527673470977</td>\n",
       "      <td>bu yılbaşı da saat tam       da swni seviyorum...</td>\n",
       "      <td>2022-06-15 21:00:18</td>\n",
       "      <td>Haziran</td>\n",
       "      <td>Yaz</td>\n",
       "      <td>Çarşamba</td>\n",
       "      <td>NaN</td>\n",
       "    </tr>\n",
       "    <tr>\n",
       "      <th>2</th>\n",
       "      <td>1344799907719348226</td>\n",
       "      <td>tam      da naptınız ben her yıl tam bu vakit ...</td>\n",
       "      <td>2022-06-13 21:21:36</td>\n",
       "      <td>Haziran</td>\n",
       "      <td>Yaz</td>\n",
       "      <td>Pazartesi</td>\n",
       "      <td>NaN</td>\n",
       "    </tr>\n",
       "    <tr>\n",
       "      <th>3</th>\n",
       "      <td>1344800782802165762</td>\n",
       "      <td>da havai fişek gösterisi yapıldı tam dib...</td>\n",
       "      <td>2022-02-20 15:03:47</td>\n",
       "      <td>Şubat</td>\n",
       "      <td>Kış</td>\n",
       "      <td>Pazar</td>\n",
       "      <td>NaN</td>\n",
       "    </tr>\n",
       "    <tr>\n",
       "      <th>4</th>\n",
       "      <td>1344805589990453249</td>\n",
       "      <td>aralık saat       da yeni yılımızı kutlayan...</td>\n",
       "      <td>2022-02-06 20:22:32</td>\n",
       "      <td>Şubat</td>\n",
       "      <td>Kış</td>\n",
       "      <td>Pazar</td>\n",
       "      <td>NaN</td>\n",
       "    </tr>\n",
       "  </tbody>\n",
       "</table>\n",
       "</div>"
      ],
      "text/plain": [
       "              tweet_id                                              tweet  \\\n",
       "0  1344798002490314752  kardesim      sevdigi cocuga       da ilan i a...   \n",
       "1  1344799527673470977  bu yılbaşı da saat tam       da swni seviyorum...   \n",
       "2  1344799907719348226  tam      da naptınız ben her yıl tam bu vakit ...   \n",
       "3  1344800782802165762        da havai fişek gösterisi yapıldı tam dib...   \n",
       "4  1344805589990453249     aralık saat       da yeni yılımızı kutlayan...   \n",
       "\n",
       "                 date    month seasons       days  label  \n",
       "0 2022-12-24 21:41:37   Aralık     Kış  Cumartesi    NaN  \n",
       "1 2022-06-15 21:00:18  Haziran     Yaz   Çarşamba    NaN  \n",
       "2 2022-06-13 21:21:36  Haziran     Yaz  Pazartesi    NaN  \n",
       "3 2022-02-20 15:03:47    Şubat     Kış      Pazar    NaN  \n",
       "4 2022-02-06 20:22:32    Şubat     Kış      Pazar    NaN  "
      ]
     },
     "execution_count": 31,
     "metadata": {},
     "output_type": "execute_result"
    }
   ],
   "source": [
    "combined_df.head()"
   ]
  },
  {
   "cell_type": "markdown",
   "id": "443e62e4",
   "metadata": {},
   "source": [
    "##### 6. tokenize the tweet column"
   ]
  },
  {
   "cell_type": "code",
   "execution_count": 32,
   "id": "3a631de7",
   "metadata": {},
   "outputs": [
    {
     "data": {
      "text/html": [
       "<div>\n",
       "<style scoped>\n",
       "    .dataframe tbody tr th:only-of-type {\n",
       "        vertical-align: middle;\n",
       "    }\n",
       "\n",
       "    .dataframe tbody tr th {\n",
       "        vertical-align: top;\n",
       "    }\n",
       "\n",
       "    .dataframe thead th {\n",
       "        text-align: right;\n",
       "    }\n",
       "</style>\n",
       "<table border=\"1\" class=\"dataframe\">\n",
       "  <thead>\n",
       "    <tr style=\"text-align: right;\">\n",
       "      <th></th>\n",
       "      <th>tweet_id</th>\n",
       "      <th>tweet</th>\n",
       "      <th>date</th>\n",
       "      <th>month</th>\n",
       "      <th>seasons</th>\n",
       "      <th>days</th>\n",
       "      <th>label</th>\n",
       "      <th>tweet_token</th>\n",
       "    </tr>\n",
       "  </thead>\n",
       "  <tbody>\n",
       "    <tr>\n",
       "      <th>0</th>\n",
       "      <td>1344798002490314752</td>\n",
       "      <td>kardesim      sevdigi cocuga       da ilan i a...</td>\n",
       "      <td>2022-12-24 21:41:37</td>\n",
       "      <td>Aralık</td>\n",
       "      <td>Kış</td>\n",
       "      <td>Cumartesi</td>\n",
       "      <td>NaN</td>\n",
       "      <td>[kardesim, sevdigi, cocuga, da, ilan, i, ask, ...</td>\n",
       "    </tr>\n",
       "    <tr>\n",
       "      <th>1</th>\n",
       "      <td>1344799527673470977</td>\n",
       "      <td>bu yılbaşı da saat tam       da swni seviyorum...</td>\n",
       "      <td>2022-06-15 21:00:18</td>\n",
       "      <td>Haziran</td>\n",
       "      <td>Yaz</td>\n",
       "      <td>Çarşamba</td>\n",
       "      <td>NaN</td>\n",
       "      <td>[bu, yılbaşı, da, saat, tam, da, swni, seviyor...</td>\n",
       "    </tr>\n",
       "    <tr>\n",
       "      <th>2</th>\n",
       "      <td>1344799907719348226</td>\n",
       "      <td>tam      da naptınız ben her yıl tam bu vakit ...</td>\n",
       "      <td>2022-06-13 21:21:36</td>\n",
       "      <td>Haziran</td>\n",
       "      <td>Yaz</td>\n",
       "      <td>Pazartesi</td>\n",
       "      <td>NaN</td>\n",
       "      <td>[tam, da, naptınız, ben, her, yıl, tam, bu, va...</td>\n",
       "    </tr>\n",
       "    <tr>\n",
       "      <th>3</th>\n",
       "      <td>1344800782802165762</td>\n",
       "      <td>da havai fişek gösterisi yapıldı tam dib...</td>\n",
       "      <td>2022-02-20 15:03:47</td>\n",
       "      <td>Şubat</td>\n",
       "      <td>Kış</td>\n",
       "      <td>Pazar</td>\n",
       "      <td>NaN</td>\n",
       "      <td>[da, havai, fişek, gösterisi, yapıldı, tam, di...</td>\n",
       "    </tr>\n",
       "    <tr>\n",
       "      <th>4</th>\n",
       "      <td>1344805589990453249</td>\n",
       "      <td>aralık saat       da yeni yılımızı kutlayan...</td>\n",
       "      <td>2022-02-06 20:22:32</td>\n",
       "      <td>Şubat</td>\n",
       "      <td>Kış</td>\n",
       "      <td>Pazar</td>\n",
       "      <td>NaN</td>\n",
       "      <td>[aralık, saat, da, yeni, yılımızı, kutlayan, b...</td>\n",
       "    </tr>\n",
       "  </tbody>\n",
       "</table>\n",
       "</div>"
      ],
      "text/plain": [
       "              tweet_id                                              tweet  \\\n",
       "0  1344798002490314752  kardesim      sevdigi cocuga       da ilan i a...   \n",
       "1  1344799527673470977  bu yılbaşı da saat tam       da swni seviyorum...   \n",
       "2  1344799907719348226  tam      da naptınız ben her yıl tam bu vakit ...   \n",
       "3  1344800782802165762        da havai fişek gösterisi yapıldı tam dib...   \n",
       "4  1344805589990453249     aralık saat       da yeni yılımızı kutlayan...   \n",
       "\n",
       "                 date    month seasons       days  label  \\\n",
       "0 2022-12-24 21:41:37   Aralık     Kış  Cumartesi    NaN   \n",
       "1 2022-06-15 21:00:18  Haziran     Yaz   Çarşamba    NaN   \n",
       "2 2022-06-13 21:21:36  Haziran     Yaz  Pazartesi    NaN   \n",
       "3 2022-02-20 15:03:47    Şubat     Kış      Pazar    NaN   \n",
       "4 2022-02-06 20:22:32    Şubat     Kış      Pazar    NaN   \n",
       "\n",
       "                                         tweet_token  \n",
       "0  [kardesim, sevdigi, cocuga, da, ilan, i, ask, ...  \n",
       "1  [bu, yılbaşı, da, saat, tam, da, swni, seviyor...  \n",
       "2  [tam, da, naptınız, ben, her, yıl, tam, bu, va...  \n",
       "3  [da, havai, fişek, gösterisi, yapıldı, tam, di...  \n",
       "4  [aralık, saat, da, yeni, yılımızı, kutlayan, b...  "
      ]
     },
     "execution_count": 32,
     "metadata": {},
     "output_type": "execute_result"
    }
   ],
   "source": [
    "combined_df[\"tweet_token\"] = combined_df[\"tweet\"].apply(lambda x: word_tokenize(x))\n",
    "combined_df.head()"
   ]
  },
  {
   "cell_type": "markdown",
   "id": "c970532b",
   "metadata": {},
   "source": [
    "#### can be used for the same job\n",
    "def tokenize(df,column):\n",
    "\n",
    "    for i,row in df.iterrows():\n",
    "        text = row[column]\n",
    "        text_token = word_tokenize(text)\n",
    "    return df\n",
    "    \n",
    "combined_df[\"tweet_token\"] = combined_df[\"tweet_token\"]\n",
    "tokenize(combined_df,\"tweet_token\")"
   ]
  },
  {
   "cell_type": "markdown",
   "id": "907bdcef",
   "metadata": {},
   "source": [
    "##### 7. remove tweets with one word"
   ]
  },
  {
   "cell_type": "code",
   "execution_count": 33,
   "id": "ecd0abf2",
   "metadata": {},
   "outputs": [],
   "source": [
    "combined_df[\"tweet\"] = combined_df[\"tweet\"].apply(lambda x: \"\".join([w for w in x.split() if len(w)>1]))\n",
    "train_df[\"tweet\"] = train_df[\"tweet\"].apply(lambda x: \"\".join([w for w in x.split() if len(w)>1]))\n",
    "test_df[\"tweet\"] = test_df[\"tweet\"].apply(lambda x: \"\".join([w for w in x.split() if len(w)>1]))"
   ]
  },
  {
   "cell_type": "code",
   "execution_count": 34,
   "id": "572734f3",
   "metadata": {},
   "outputs": [],
   "source": [
    "combined_df[\"tweet_token\"] = combined_df[\"tweet_token\"].apply(lambda tokens: [token for token in tokens if len(token) > 1])"
   ]
  },
  {
   "cell_type": "markdown",
   "id": "7d924c64",
   "metadata": {},
   "source": [
    "###### can be used for the same job\n",
    "def filter_single_chars(tokens):\n",
    "    return [token for token in tokens if len(token) > 1]\n",
    "\n",
    "combined_df[\"tweet_token\"] = combined_df[\"tweet_token\"].apply(filter_single_chars)\n",
    "\n",
    "print(combined_df[\"tweet_token\"].head())\n"
   ]
  },
  {
   "cell_type": "code",
   "execution_count": 35,
   "id": "98d0a2e1",
   "metadata": {},
   "outputs": [
    {
     "data": {
      "text/html": [
       "<div>\n",
       "<style scoped>\n",
       "    .dataframe tbody tr th:only-of-type {\n",
       "        vertical-align: middle;\n",
       "    }\n",
       "\n",
       "    .dataframe tbody tr th {\n",
       "        vertical-align: top;\n",
       "    }\n",
       "\n",
       "    .dataframe thead th {\n",
       "        text-align: right;\n",
       "    }\n",
       "</style>\n",
       "<table border=\"1\" class=\"dataframe\">\n",
       "  <thead>\n",
       "    <tr style=\"text-align: right;\">\n",
       "      <th></th>\n",
       "      <th>tweet_id</th>\n",
       "      <th>tweet</th>\n",
       "      <th>date</th>\n",
       "      <th>month</th>\n",
       "      <th>seasons</th>\n",
       "      <th>days</th>\n",
       "      <th>label</th>\n",
       "      <th>tweet_token</th>\n",
       "    </tr>\n",
       "  </thead>\n",
       "  <tbody>\n",
       "    <tr>\n",
       "      <th>0</th>\n",
       "      <td>1344798002490314752</td>\n",
       "      <td>kardesimsevdigicocugadailanasketmiscocuksimdiy...</td>\n",
       "      <td>2022-12-24 21:41:37</td>\n",
       "      <td>Aralık</td>\n",
       "      <td>Kış</td>\n",
       "      <td>Cumartesi</td>\n",
       "      <td>NaN</td>\n",
       "      <td>[kardesim, sevdigi, cocuga, da, ilan, ask, etm...</td>\n",
       "    </tr>\n",
       "    <tr>\n",
       "      <th>1</th>\n",
       "      <td>1344799527673470977</td>\n",
       "      <td>buyılbaşıdasaattamdaswniseviyorummesajıgelmedi</td>\n",
       "      <td>2022-06-15 21:00:18</td>\n",
       "      <td>Haziran</td>\n",
       "      <td>Yaz</td>\n",
       "      <td>Çarşamba</td>\n",
       "      <td>NaN</td>\n",
       "      <td>[bu, yılbaşı, da, saat, tam, da, swni, seviyor...</td>\n",
       "    </tr>\n",
       "    <tr>\n",
       "      <th>2</th>\n",
       "      <td>1344799907719348226</td>\n",
       "      <td>tamdanaptınızbenheryıltambuvakitdinlediğimşark...</td>\n",
       "      <td>2022-06-13 21:21:36</td>\n",
       "      <td>Haziran</td>\n",
       "      <td>Yaz</td>\n",
       "      <td>Pazartesi</td>\n",
       "      <td>NaN</td>\n",
       "      <td>[tam, da, naptınız, ben, her, yıl, tam, bu, va...</td>\n",
       "    </tr>\n",
       "    <tr>\n",
       "      <th>3</th>\n",
       "      <td>1344800782802165762</td>\n",
       "      <td>dahavaifişekgösterisiyapıldıtamdibimizdeancakk...</td>\n",
       "      <td>2022-02-20 15:03:47</td>\n",
       "      <td>Şubat</td>\n",
       "      <td>Kış</td>\n",
       "      <td>Pazar</td>\n",
       "      <td>NaN</td>\n",
       "      <td>[da, havai, fişek, gösterisi, yapıldı, tam, di...</td>\n",
       "    </tr>\n",
       "    <tr>\n",
       "      <th>4</th>\n",
       "      <td>1344805589990453249</td>\n",
       "      <td>aralıksaatdayeniyılımızıkutlayanbirisiyineolma...</td>\n",
       "      <td>2022-02-06 20:22:32</td>\n",
       "      <td>Şubat</td>\n",
       "      <td>Kış</td>\n",
       "      <td>Pazar</td>\n",
       "      <td>NaN</td>\n",
       "      <td>[aralık, saat, da, yeni, yılımızı, kutlayan, b...</td>\n",
       "    </tr>\n",
       "  </tbody>\n",
       "</table>\n",
       "</div>"
      ],
      "text/plain": [
       "              tweet_id                                              tweet  \\\n",
       "0  1344798002490314752  kardesimsevdigicocugadailanasketmiscocuksimdiy...   \n",
       "1  1344799527673470977     buyılbaşıdasaattamdaswniseviyorummesajıgelmedi   \n",
       "2  1344799907719348226  tamdanaptınızbenheryıltambuvakitdinlediğimşark...   \n",
       "3  1344800782802165762  dahavaifişekgösterisiyapıldıtamdibimizdeancakk...   \n",
       "4  1344805589990453249  aralıksaatdayeniyılımızıkutlayanbirisiyineolma...   \n",
       "\n",
       "                 date    month seasons       days  label  \\\n",
       "0 2022-12-24 21:41:37   Aralık     Kış  Cumartesi    NaN   \n",
       "1 2022-06-15 21:00:18  Haziran     Yaz   Çarşamba    NaN   \n",
       "2 2022-06-13 21:21:36  Haziran     Yaz  Pazartesi    NaN   \n",
       "3 2022-02-20 15:03:47    Şubat     Kış      Pazar    NaN   \n",
       "4 2022-02-06 20:22:32    Şubat     Kış      Pazar    NaN   \n",
       "\n",
       "                                         tweet_token  \n",
       "0  [kardesim, sevdigi, cocuga, da, ilan, ask, etm...  \n",
       "1  [bu, yılbaşı, da, saat, tam, da, swni, seviyor...  \n",
       "2  [tam, da, naptınız, ben, her, yıl, tam, bu, va...  \n",
       "3  [da, havai, fişek, gösterisi, yapıldı, tam, di...  \n",
       "4  [aralık, saat, da, yeni, yılımızı, kutlayan, b...  "
      ]
     },
     "execution_count": 35,
     "metadata": {},
     "output_type": "execute_result"
    }
   ],
   "source": [
    "combined_df.head()"
   ]
  },
  {
   "cell_type": "markdown",
   "id": "8ae5eb6e",
   "metadata": {},
   "source": [
    "##### 8. remove stop words from the dataset"
   ]
  },
  {
   "cell_type": "code",
   "execution_count": 36,
   "id": "fd3fdf92",
   "metadata": {},
   "outputs": [
    {
     "data": {
      "text/plain": [
       "{'acaba',\n",
       " 'ama',\n",
       " 'aslında',\n",
       " 'az',\n",
       " 'bazı',\n",
       " 'belki',\n",
       " 'biri',\n",
       " 'birkaç',\n",
       " 'birşey',\n",
       " 'biz',\n",
       " 'bu',\n",
       " 'da',\n",
       " 'daha',\n",
       " 'de',\n",
       " 'defa',\n",
       " 'diye',\n",
       " 'en',\n",
       " 'eğer',\n",
       " 'gibi',\n",
       " 'hem',\n",
       " 'hep',\n",
       " 'hepsi',\n",
       " 'her',\n",
       " 'hiç',\n",
       " 'ile',\n",
       " 'ise',\n",
       " 'için',\n",
       " 'kez',\n",
       " 'ki',\n",
       " 'kim',\n",
       " 'mu',\n",
       " 'mü',\n",
       " 'mı',\n",
       " 'nasıl',\n",
       " 'ne',\n",
       " 'neden',\n",
       " 'nerde',\n",
       " 'nerede',\n",
       " 'nereye',\n",
       " 'niye',\n",
       " 'niçin',\n",
       " 'o',\n",
       " 'sanki',\n",
       " 'siz',\n",
       " 'tüm',\n",
       " 've',\n",
       " 'veya',\n",
       " 'ya',\n",
       " 'yani',\n",
       " 'çok',\n",
       " 'çünkü',\n",
       " 'şey',\n",
       " 'şu'}"
      ]
     },
     "execution_count": 36,
     "metadata": {},
     "output_type": "execute_result"
    }
   ],
   "source": [
    "stop_words = set(stopwords.words(\"turkish\"))\n",
    "stop_words"
   ]
  },
  {
   "cell_type": "code",
   "execution_count": 37,
   "id": "0f83eb40",
   "metadata": {},
   "outputs": [],
   "source": [
    "combined_df[\"tweet_token_clean\"] = combined_df[\"tweet_token\"].apply(lambda x: [word for word in x if not word in stop_words])"
   ]
  },
  {
   "cell_type": "code",
   "execution_count": 38,
   "id": "7e938fcc",
   "metadata": {},
   "outputs": [
    {
     "data": {
      "text/html": [
       "<div>\n",
       "<style scoped>\n",
       "    .dataframe tbody tr th:only-of-type {\n",
       "        vertical-align: middle;\n",
       "    }\n",
       "\n",
       "    .dataframe tbody tr th {\n",
       "        vertical-align: top;\n",
       "    }\n",
       "\n",
       "    .dataframe thead th {\n",
       "        text-align: right;\n",
       "    }\n",
       "</style>\n",
       "<table border=\"1\" class=\"dataframe\">\n",
       "  <thead>\n",
       "    <tr style=\"text-align: right;\">\n",
       "      <th></th>\n",
       "      <th>tweet_id</th>\n",
       "      <th>tweet</th>\n",
       "      <th>date</th>\n",
       "      <th>month</th>\n",
       "      <th>seasons</th>\n",
       "      <th>days</th>\n",
       "      <th>label</th>\n",
       "      <th>tweet_token</th>\n",
       "      <th>tweet_token_clean</th>\n",
       "    </tr>\n",
       "  </thead>\n",
       "  <tbody>\n",
       "    <tr>\n",
       "      <th>0</th>\n",
       "      <td>1344798002490314752</td>\n",
       "      <td>kardesimsevdigicocugadailanasketmiscocuksimdiy...</td>\n",
       "      <td>2022-12-24 21:41:37</td>\n",
       "      <td>Aralık</td>\n",
       "      <td>Kış</td>\n",
       "      <td>Cumartesi</td>\n",
       "      <td>NaN</td>\n",
       "      <td>[kardesim, sevdigi, cocuga, da, ilan, ask, etm...</td>\n",
       "      <td>[kardesim, sevdigi, cocuga, ilan, ask, etmis, ...</td>\n",
       "    </tr>\n",
       "    <tr>\n",
       "      <th>1</th>\n",
       "      <td>1344799527673470977</td>\n",
       "      <td>buyılbaşıdasaattamdaswniseviyorummesajıgelmedi</td>\n",
       "      <td>2022-06-15 21:00:18</td>\n",
       "      <td>Haziran</td>\n",
       "      <td>Yaz</td>\n",
       "      <td>Çarşamba</td>\n",
       "      <td>NaN</td>\n",
       "      <td>[bu, yılbaşı, da, saat, tam, da, swni, seviyor...</td>\n",
       "      <td>[yılbaşı, saat, tam, swni, seviyorum, mesajı, ...</td>\n",
       "    </tr>\n",
       "    <tr>\n",
       "      <th>2</th>\n",
       "      <td>1344799907719348226</td>\n",
       "      <td>tamdanaptınızbenheryıltambuvakitdinlediğimşark...</td>\n",
       "      <td>2022-06-13 21:21:36</td>\n",
       "      <td>Haziran</td>\n",
       "      <td>Yaz</td>\n",
       "      <td>Pazartesi</td>\n",
       "      <td>NaN</td>\n",
       "      <td>[tam, da, naptınız, ben, her, yıl, tam, bu, va...</td>\n",
       "      <td>[tam, naptınız, ben, yıl, tam, vakit, dinlediğ...</td>\n",
       "    </tr>\n",
       "    <tr>\n",
       "      <th>3</th>\n",
       "      <td>1344800782802165762</td>\n",
       "      <td>dahavaifişekgösterisiyapıldıtamdibimizdeancakk...</td>\n",
       "      <td>2022-02-20 15:03:47</td>\n",
       "      <td>Şubat</td>\n",
       "      <td>Kış</td>\n",
       "      <td>Pazar</td>\n",
       "      <td>NaN</td>\n",
       "      <td>[da, havai, fişek, gösterisi, yapıldı, tam, di...</td>\n",
       "      <td>[havai, fişek, gösterisi, yapıldı, tam, dibimi...</td>\n",
       "    </tr>\n",
       "    <tr>\n",
       "      <th>4</th>\n",
       "      <td>1344805589990453249</td>\n",
       "      <td>aralıksaatdayeniyılımızıkutlayanbirisiyineolma...</td>\n",
       "      <td>2022-02-06 20:22:32</td>\n",
       "      <td>Şubat</td>\n",
       "      <td>Kış</td>\n",
       "      <td>Pazar</td>\n",
       "      <td>NaN</td>\n",
       "      <td>[aralık, saat, da, yeni, yılımızı, kutlayan, b...</td>\n",
       "      <td>[aralık, saat, yeni, yılımızı, kutlayan, biris...</td>\n",
       "    </tr>\n",
       "  </tbody>\n",
       "</table>\n",
       "</div>"
      ],
      "text/plain": [
       "              tweet_id                                              tweet  \\\n",
       "0  1344798002490314752  kardesimsevdigicocugadailanasketmiscocuksimdiy...   \n",
       "1  1344799527673470977     buyılbaşıdasaattamdaswniseviyorummesajıgelmedi   \n",
       "2  1344799907719348226  tamdanaptınızbenheryıltambuvakitdinlediğimşark...   \n",
       "3  1344800782802165762  dahavaifişekgösterisiyapıldıtamdibimizdeancakk...   \n",
       "4  1344805589990453249  aralıksaatdayeniyılımızıkutlayanbirisiyineolma...   \n",
       "\n",
       "                 date    month seasons       days  label  \\\n",
       "0 2022-12-24 21:41:37   Aralık     Kış  Cumartesi    NaN   \n",
       "1 2022-06-15 21:00:18  Haziran     Yaz   Çarşamba    NaN   \n",
       "2 2022-06-13 21:21:36  Haziran     Yaz  Pazartesi    NaN   \n",
       "3 2022-02-20 15:03:47    Şubat     Kış      Pazar    NaN   \n",
       "4 2022-02-06 20:22:32    Şubat     Kış      Pazar    NaN   \n",
       "\n",
       "                                         tweet_token  \\\n",
       "0  [kardesim, sevdigi, cocuga, da, ilan, ask, etm...   \n",
       "1  [bu, yılbaşı, da, saat, tam, da, swni, seviyor...   \n",
       "2  [tam, da, naptınız, ben, her, yıl, tam, bu, va...   \n",
       "3  [da, havai, fişek, gösterisi, yapıldı, tam, di...   \n",
       "4  [aralık, saat, da, yeni, yılımızı, kutlayan, b...   \n",
       "\n",
       "                                   tweet_token_clean  \n",
       "0  [kardesim, sevdigi, cocuga, ilan, ask, etmis, ...  \n",
       "1  [yılbaşı, saat, tam, swni, seviyorum, mesajı, ...  \n",
       "2  [tam, naptınız, ben, yıl, tam, vakit, dinlediğ...  \n",
       "3  [havai, fişek, gösterisi, yapıldı, tam, dibimi...  \n",
       "4  [aralık, saat, yeni, yılımızı, kutlayan, biris...  "
      ]
     },
     "execution_count": 38,
     "metadata": {},
     "output_type": "execute_result"
    }
   ],
   "source": [
    "combined_df.head()"
   ]
  },
  {
   "cell_type": "markdown",
   "id": "268e9e18",
   "metadata": {},
   "source": [
    "## Exploratory Data Analysis"
   ]
  },
  {
   "cell_type": "markdown",
   "id": "5e66ea40",
   "metadata": {},
   "source": [
    "### Questions\n",
    "1. What is the distribution of labels (e.g., positive, negative, neutral)?\n",
    "2. How does the distribution of labels vary over time (date)?\n",
    "3. What are the most common words or phrases in the tweets?\n",
    "4. Is there any correlation between tweet length and label?\n",
    "5. Are there any patterns in the dates of the tweets (e.g., spikes in activity on certain days)?\n",
    "6. How many unique users (tweet_id) are represented in the dataset?\n",
    "7. Can we identify any trends or themes in the tweets based on the label?"
   ]
  },
  {
   "cell_type": "markdown",
   "id": "d352d657",
   "metadata": {},
   "source": [
    "##### 1. What is the ratio of the positive negative and natural tweets"
   ]
  },
  {
   "cell_type": "code",
   "execution_count": null,
   "id": "c61a55ef",
   "metadata": {},
   "outputs": [],
   "source": [
    "positive = test_df.loc[test_df[\"label\"] == 1].count()[0]\n",
    "notr = test_df.loc[test_df[\"label\"] == 0].count()[0]\n",
    "negative = test_df.loc[test_df[\"label\"] == -1].count()[0]\n",
    "\n",
    "labels_r = [\"Positive\",\"Notr\",\"Negative\"]\n",
    "\n",
    "plt.figure(figsize=(8,5),dpi = 100)\n",
    "plt.pie([positive,notr,negative],labels = labels_r,autopct=\"%.f%%\")\n",
    "plt.title(\"Etiket Oranları\")\n",
    "plt.show()"
   ]
  },
  {
   "cell_type": "code",
   "execution_count": null,
   "id": "76d69788",
   "metadata": {},
   "outputs": [],
   "source": [
    "ax = test_df[\"label\"].value_counts().sort_index().plot(kind = \"bar\",title = \"Etiket Oranları\",figsize = (8,5))\n",
    "plt.show()"
   ]
  },
  {
   "cell_type": "markdown",
   "id": "291c05b3",
   "metadata": {},
   "source": [
    "##### 2. How does the distribution of labels vary over time (date)?"
   ]
  },
  {
   "cell_type": "code",
   "execution_count": null,
   "id": "3707cb4c",
   "metadata": {},
   "outputs": [],
   "source": [
    "columns1 = [\"seasons\",\"label\"]\n",
    "label_by_seasons = test_df[columns1].groupby([\"seasons\",\"label\"])\n",
    "a = label_by_seasons.value_counts()\n",
    "a.head()"
   ]
  },
  {
   "cell_type": "code",
   "execution_count": null,
   "id": "fa96f98d",
   "metadata": {},
   "outputs": [],
   "source": [
    "fig, ax = plt.subplots(figsize=(10, 6))\n",
    "\n",
    "# Width of a single bar\n",
    "bar_width = 0.2\n",
    "\n",
    "x = range(len(label_by_seasons[\"seasons\"]))\n",
    "\n",
    "for i, test_df[\"label\"] in enumerate(labels):\n",
    "    ax.bar([pos + i * bar_width for pos in x], counts[i], width=bar_width, label=label)\n",
    "\n",
    "# Set x-axis labels\n",
    "ax.set_xticks([pos + bar_width for pos in x])\n",
    "ax.set_xticklabels(label_by_seasons[\"seasons\"])\n",
    "\n",
    "# Add legend\n",
    "ax.legend(title='Label')\n",
    "\n",
    "# Add labels and title\n",
    "ax.set_xlabel('Seasons')\n",
    "ax.set_ylabel('Counts')\n",
    "ax.set_title('Counts of Labels by Seasons')\n",
    "\n",
    "# Show plot\n",
    "plt.grid(True)\n",
    "plt.show()"
   ]
  },
  {
   "cell_type": "code",
   "execution_count": null,
   "id": "1e6d1c53",
   "metadata": {},
   "outputs": [],
   "source": [
    "columns1 = [\"seasons\",\"label\"]\n",
    "label_by_seasons = test_df[columns1].groupby([\"seasons\",\"label\"])\n",
    "\n",
    "labels_s = [\"İlkbahar\",\"Yaz\",\"Sonbahar\",\"Kış\"]\n",
    "plt.bar(label_by_seasons[\"seasons\"],label_by_seasons[\"label\"])\n",
    "plt.show()"
   ]
  },
  {
   "cell_type": "code",
   "execution_count": null,
   "id": "82d94ac2",
   "metadata": {},
   "outputs": [],
   "source": []
  },
  {
   "cell_type": "markdown",
   "id": "d77d9c2c",
   "metadata": {},
   "source": [
    "##### 3. What are the most common words or phrases in the tweets?"
   ]
  },
  {
   "cell_type": "code",
   "execution_count": null,
   "id": "ae5d8b1c",
   "metadata": {},
   "outputs": [],
   "source": [
    "all_words = [word for sublist in combined_df[\"tweet_token\"] for word in sublist]\n",
    "all_words_str = ' '.join(all_words)\n",
    "\n",
    "wordcloud = WordCloud(width=800, height=500, random_state=21, max_font_size=110).generate(all_words_str)\n",
    "\n",
    "plt.figure(figsize=(10, 7))\n",
    "plt.imshow(wordcloud, interpolation=\"bilinear\")\n",
    "plt.axis('off')\n",
    "plt.title(\"En Çok Kullanılan Kelimeler\")\n",
    "plt.show()"
   ]
  },
  {
   "cell_type": "code",
   "execution_count": null,
   "id": "2d5b4322",
   "metadata": {},
   "outputs": [],
   "source": []
  },
  {
   "cell_type": "code",
   "execution_count": null,
   "id": "d29dcd67",
   "metadata": {},
   "outputs": [],
   "source": []
  },
  {
   "cell_type": "code",
   "execution_count": null,
   "id": "5e3d8a71",
   "metadata": {},
   "outputs": [],
   "source": []
  },
  {
   "cell_type": "markdown",
   "id": "77e90b39",
   "metadata": {},
   "source": [
    "## Model Training"
   ]
  },
  {
   "cell_type": "markdown",
   "id": "94579082",
   "metadata": {},
   "source": [
    "https://ugurozker.medium.com/zemberek-nlp-7add032881e9"
   ]
  },
  {
   "cell_type": "code",
   "execution_count": null,
   "id": "1cb6d213",
   "metadata": {},
   "outputs": [],
   "source": [
    "from zemberek import (\n",
    "    TurkishSpellChecker,\n",
    "    TurkishSentenceNormalizer,\n",
    "    TurkishSentenceExtractor,\n",
    "    TurkishMorphology,\n",
    "    TurkishTokenizer\n",
    ")\n",
    "import logging"
   ]
  },
  {
   "cell_type": "code",
   "execution_count": null,
   "id": "59c4acd3",
   "metadata": {},
   "outputs": [],
   "source": [
    "logger = logging.getLogger(__name__)\n",
    "\n",
    "morphology = TurkishMorphology.create_with_defaults()\n",
    "normalizer = TurkishSentenceNormalizer(morphology)\n",
    "extractor = TurkishSentenceExtractor()\n",
    "\n",
    "def normalize_long_text(text):\n",
    "    normalized_sentences = [normalizer.normalize(word) for word in text]\n",
    "    normalized_text = \" \".join(normalized_sentences)\n",
    "    return normalized_text"
   ]
  },
  {
   "cell_type": "code",
   "execution_count": null,
   "id": "50906c28",
   "metadata": {},
   "outputs": [],
   "source": [
    "bow_vectorizer = CountVectorizer(max_df=0.90, min_df=2, max_features=1000, stop_words='english')\n",
    "bow_vectorizer"
   ]
  },
  {
   "cell_type": "code",
   "execution_count": null,
   "id": "4f8b1dff",
   "metadata": {},
   "outputs": [],
   "source": [
    "bow_tweet = bow_vectorizer.fit_transform(combined_df[\"tweet_token_cleaned\"])\n",
    "bow_tweet"
   ]
  },
  {
   "cell_type": "code",
   "execution_count": null,
   "id": "a78def04",
   "metadata": {},
   "outputs": [],
   "source": []
  },
  {
   "cell_type": "code",
   "execution_count": null,
   "id": "4621b786",
   "metadata": {},
   "outputs": [],
   "source": []
  },
  {
   "cell_type": "code",
   "execution_count": null,
   "id": "5405d7d3",
   "metadata": {},
   "outputs": [],
   "source": []
  },
  {
   "cell_type": "code",
   "execution_count": null,
   "id": "8021b7c8",
   "metadata": {},
   "outputs": [],
   "source": []
  },
  {
   "cell_type": "code",
   "execution_count": null,
   "id": "5acfb33a",
   "metadata": {},
   "outputs": [],
   "source": []
  },
  {
   "cell_type": "code",
   "execution_count": null,
   "id": "20490d3a",
   "metadata": {},
   "outputs": [],
   "source": []
  },
  {
   "cell_type": "code",
   "execution_count": null,
   "id": "e941d757",
   "metadata": {},
   "outputs": [],
   "source": []
  },
  {
   "cell_type": "markdown",
   "id": "b68ed352",
   "metadata": {},
   "source": [
    "## Deployment"
   ]
  },
  {
   "cell_type": "code",
   "execution_count": null,
   "id": "68b3ebdb",
   "metadata": {},
   "outputs": [],
   "source": [
    "pip install streamlit"
   ]
  },
  {
   "cell_type": "code",
   "execution_count": null,
   "id": "701f6b40",
   "metadata": {},
   "outputs": [],
   "source": [
    "def cleaning_text(text):\n",
    "    text = text.lower()\n",
    "    text = classification(text,emoticon_dict)\n",
    "    text = re.sub(r'[^a-zA-Z0-9]', ' ', text)\n",
    "    \n",
    "    word_and_space_remover = lambda x: \"\".join([w for w in x.split() if len(w)>1])\n",
    "    text = word_and_space_remover(text)"
   ]
  }
 ],
 "metadata": {
  "kernelspec": {
   "display_name": "Python 3 (ipykernel)",
   "language": "python",
   "name": "python3"
  },
  "language_info": {
   "codemirror_mode": {
    "name": "ipython",
    "version": 3
   },
   "file_extension": ".py",
   "mimetype": "text/x-python",
   "name": "python",
   "nbconvert_exporter": "python",
   "pygments_lexer": "ipython3",
   "version": "3.11.5"
  }
 },
 "nbformat": 4,
 "nbformat_minor": 5
}
