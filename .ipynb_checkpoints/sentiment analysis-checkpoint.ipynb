{
 "cells": [
  {
   "cell_type": "code",
   "execution_count": 26,
   "id": "9b980f17",
   "metadata": {},
   "outputs": [],
   "source": [
    "import pandas as pd\n",
    "import numpy as np\n",
    "import matplotlib.pyplot as plt\n",
    "import seaborn as sns\n",
    "from datetime import datetime\n",
    "import re\n",
    "from nltk.corpus import stopwords\n",
    "from nltk.tokenize import word_tokenize"
   ]
  },
  {
   "cell_type": "code",
   "execution_count": 2,
   "id": "3dddfc56",
   "metadata": {},
   "outputs": [],
   "source": [
    "train_df = pd.read_csv(\"tweets_21.csv\")\n",
    "test_df = pd.read_csv(\"tweets_labeled.csv\")"
   ]
  },
  {
   "cell_type": "code",
   "execution_count": 3,
   "id": "2841f9ef",
   "metadata": {},
   "outputs": [
    {
     "data": {
      "text/html": [
       "<div>\n",
       "<style scoped>\n",
       "    .dataframe tbody tr th:only-of-type {\n",
       "        vertical-align: middle;\n",
       "    }\n",
       "\n",
       "    .dataframe tbody tr th {\n",
       "        vertical-align: top;\n",
       "    }\n",
       "\n",
       "    .dataframe thead th {\n",
       "        text-align: right;\n",
       "    }\n",
       "</style>\n",
       "<table border=\"1\" class=\"dataframe\">\n",
       "  <thead>\n",
       "    <tr style=\"text-align: right;\">\n",
       "      <th></th>\n",
       "      <th>tweet_id</th>\n",
       "      <th>tweet</th>\n",
       "      <th>date</th>\n",
       "    </tr>\n",
       "  </thead>\n",
       "  <tbody>\n",
       "    <tr>\n",
       "      <th>0</th>\n",
       "      <td>1344798002490314752</td>\n",
       "      <td>Kardesim (12) sevdigi cocuga 00:00 da ilan-i a...</td>\n",
       "      <td>2021-01-01 03:10:03</td>\n",
       "    </tr>\n",
       "    <tr>\n",
       "      <th>1</th>\n",
       "      <td>1344799527673470977</td>\n",
       "      <td>Bu yılbaşı da saat tam 00:00'da swni seviyorum...</td>\n",
       "      <td>2021-01-01 03:16:07</td>\n",
       "    </tr>\n",
       "    <tr>\n",
       "      <th>2</th>\n",
       "      <td>1344799907719348226</td>\n",
       "      <td>tam 00.00da naptınız ben her yıl tam bu vakit ...</td>\n",
       "      <td>2021-01-01 03:17:37</td>\n",
       "    </tr>\n",
       "    <tr>\n",
       "      <th>3</th>\n",
       "      <td>1344800782802165762</td>\n",
       "      <td>00:00'da havai fişek gösterisi yapıldı tam dib...</td>\n",
       "      <td>2021-01-01 03:21:06</td>\n",
       "    </tr>\n",
       "    <tr>\n",
       "      <th>4</th>\n",
       "      <td>1344805589990453249</td>\n",
       "      <td>31 aralık saat 00.00 da yeni yılımızı kutlayan...</td>\n",
       "      <td>2021-01-01 03:40:12</td>\n",
       "    </tr>\n",
       "  </tbody>\n",
       "</table>\n",
       "</div>"
      ],
      "text/plain": [
       "              tweet_id                                              tweet  \\\n",
       "0  1344798002490314752  Kardesim (12) sevdigi cocuga 00:00 da ilan-i a...   \n",
       "1  1344799527673470977  Bu yılbaşı da saat tam 00:00'da swni seviyorum...   \n",
       "2  1344799907719348226  tam 00.00da naptınız ben her yıl tam bu vakit ...   \n",
       "3  1344800782802165762  00:00'da havai fişek gösterisi yapıldı tam dib...   \n",
       "4  1344805589990453249  31 aralık saat 00.00 da yeni yılımızı kutlayan...   \n",
       "\n",
       "                  date  \n",
       "0  2021-01-01 03:10:03  \n",
       "1  2021-01-01 03:16:07  \n",
       "2  2021-01-01 03:17:37  \n",
       "3  2021-01-01 03:21:06  \n",
       "4  2021-01-01 03:40:12  "
      ]
     },
     "execution_count": 3,
     "metadata": {},
     "output_type": "execute_result"
    }
   ],
   "source": [
    "train_df.head()"
   ]
  },
  {
   "cell_type": "code",
   "execution_count": 4,
   "id": "a6268a30",
   "metadata": {},
   "outputs": [
    {
     "data": {
      "text/html": [
       "<div>\n",
       "<style scoped>\n",
       "    .dataframe tbody tr th:only-of-type {\n",
       "        vertical-align: middle;\n",
       "    }\n",
       "\n",
       "    .dataframe tbody tr th {\n",
       "        vertical-align: top;\n",
       "    }\n",
       "\n",
       "    .dataframe thead th {\n",
       "        text-align: right;\n",
       "    }\n",
       "</style>\n",
       "<table border=\"1\" class=\"dataframe\">\n",
       "  <thead>\n",
       "    <tr style=\"text-align: right;\">\n",
       "      <th></th>\n",
       "      <th>tweet_id</th>\n",
       "      <th>tweet</th>\n",
       "      <th>date</th>\n",
       "      <th>label</th>\n",
       "    </tr>\n",
       "  </thead>\n",
       "  <tbody>\n",
       "    <tr>\n",
       "      <th>0</th>\n",
       "      <td>1606767075984375808</td>\n",
       "      <td>Berk Ali (kedim) seni çok özledim. Ölmek için ...</td>\n",
       "      <td>2022-12-24 21:41:37+00:00</td>\n",
       "      <td>1</td>\n",
       "    </tr>\n",
       "    <tr>\n",
       "      <th>1</th>\n",
       "      <td>1537178207677448193</td>\n",
       "      <td>Yani, öylesine ciddiye alacaksın ki yaşamayı, ...</td>\n",
       "      <td>2022-06-15 21:00:18+00:00</td>\n",
       "      <td>1</td>\n",
       "    </tr>\n",
       "    <tr>\n",
       "      <th>2</th>\n",
       "      <td>1536458790802972673</td>\n",
       "      <td>saçlarının gölgesinde\\nölmek ne güzeldi</td>\n",
       "      <td>2022-06-13 21:21:36+00:00</td>\n",
       "      <td>1</td>\n",
       "    </tr>\n",
       "    <tr>\n",
       "      <th>3</th>\n",
       "      <td>1495413883166760960</td>\n",
       "      <td>Öyle güzel baktın ki, gözlerime\\nsevmek değil ...</td>\n",
       "      <td>2022-02-20 15:03:47+00:00</td>\n",
       "      <td>1</td>\n",
       "    </tr>\n",
       "    <tr>\n",
       "      <th>4</th>\n",
       "      <td>1490420667614904334</td>\n",
       "      <td>sevmek biri için ölmek değil her şeye rağmen y...</td>\n",
       "      <td>2022-02-06 20:22:32+00:00</td>\n",
       "      <td>1</td>\n",
       "    </tr>\n",
       "  </tbody>\n",
       "</table>\n",
       "</div>"
      ],
      "text/plain": [
       "              tweet_id                                              tweet  \\\n",
       "0  1606767075984375808  Berk Ali (kedim) seni çok özledim. Ölmek için ...   \n",
       "1  1537178207677448193  Yani, öylesine ciddiye alacaksın ki yaşamayı, ...   \n",
       "2  1536458790802972673            saçlarının gölgesinde\\nölmek ne güzeldi   \n",
       "3  1495413883166760960  Öyle güzel baktın ki, gözlerime\\nsevmek değil ...   \n",
       "4  1490420667614904334  sevmek biri için ölmek değil her şeye rağmen y...   \n",
       "\n",
       "                        date  label  \n",
       "0  2022-12-24 21:41:37+00:00      1  \n",
       "1  2022-06-15 21:00:18+00:00      1  \n",
       "2  2022-06-13 21:21:36+00:00      1  \n",
       "3  2022-02-20 15:03:47+00:00      1  \n",
       "4  2022-02-06 20:22:32+00:00      1  "
      ]
     },
     "execution_count": 4,
     "metadata": {},
     "output_type": "execute_result"
    }
   ],
   "source": [
    "test_df.head()"
   ]
  },
  {
   "cell_type": "code",
   "execution_count": 5,
   "id": "5bb97781",
   "metadata": {},
   "outputs": [
    {
     "name": "stdout",
     "output_type": "stream",
     "text": [
      "<class 'pandas.core.frame.DataFrame'>\n",
      "RangeIndex: 13272 entries, 0 to 13271\n",
      "Data columns (total 3 columns):\n",
      " #   Column    Non-Null Count  Dtype \n",
      "---  ------    --------------  ----- \n",
      " 0   tweet_id  13272 non-null  int64 \n",
      " 1   tweet     13272 non-null  object\n",
      " 2   date      13272 non-null  object\n",
      "dtypes: int64(1), object(2)\n",
      "memory usage: 311.2+ KB\n"
     ]
    }
   ],
   "source": [
    "train_df.info()"
   ]
  },
  {
   "cell_type": "code",
   "execution_count": 6,
   "id": "485a0642",
   "metadata": {},
   "outputs": [
    {
     "name": "stdout",
     "output_type": "stream",
     "text": [
      "<class 'pandas.core.frame.DataFrame'>\n",
      "RangeIndex: 12960 entries, 0 to 12959\n",
      "Data columns (total 4 columns):\n",
      " #   Column    Non-Null Count  Dtype \n",
      "---  ------    --------------  ----- \n",
      " 0   tweet_id  12960 non-null  int64 \n",
      " 1   tweet     12959 non-null  object\n",
      " 2   date      12960 non-null  object\n",
      " 3   label     12960 non-null  int64 \n",
      "dtypes: int64(2), object(2)\n",
      "memory usage: 405.1+ KB\n"
     ]
    }
   ],
   "source": [
    "test_df.info()"
   ]
  },
  {
   "cell_type": "code",
   "execution_count": 8,
   "id": "bfe9972f",
   "metadata": {},
   "outputs": [
    {
     "data": {
      "text/html": [
       "<div>\n",
       "<style scoped>\n",
       "    .dataframe tbody tr th:only-of-type {\n",
       "        vertical-align: middle;\n",
       "    }\n",
       "\n",
       "    .dataframe tbody tr th {\n",
       "        vertical-align: top;\n",
       "    }\n",
       "\n",
       "    .dataframe thead th {\n",
       "        text-align: right;\n",
       "    }\n",
       "</style>\n",
       "<table border=\"1\" class=\"dataframe\">\n",
       "  <thead>\n",
       "    <tr style=\"text-align: right;\">\n",
       "      <th></th>\n",
       "      <th>tweet_id</th>\n",
       "      <th>tweet</th>\n",
       "      <th>date</th>\n",
       "      <th>label</th>\n",
       "    </tr>\n",
       "  </thead>\n",
       "  <tbody>\n",
       "    <tr>\n",
       "      <th>0</th>\n",
       "      <td>1344798002490314752</td>\n",
       "      <td>Kardesim (12) sevdigi cocuga 00:00 da ilan-i a...</td>\n",
       "      <td>2021-01-01 03:10:03</td>\n",
       "      <td>NaN</td>\n",
       "    </tr>\n",
       "    <tr>\n",
       "      <th>1</th>\n",
       "      <td>1344799527673470977</td>\n",
       "      <td>Bu yılbaşı da saat tam 00:00'da swni seviyorum...</td>\n",
       "      <td>2021-01-01 03:16:07</td>\n",
       "      <td>NaN</td>\n",
       "    </tr>\n",
       "    <tr>\n",
       "      <th>2</th>\n",
       "      <td>1344799907719348226</td>\n",
       "      <td>tam 00.00da naptınız ben her yıl tam bu vakit ...</td>\n",
       "      <td>2021-01-01 03:17:37</td>\n",
       "      <td>NaN</td>\n",
       "    </tr>\n",
       "    <tr>\n",
       "      <th>3</th>\n",
       "      <td>1344800782802165762</td>\n",
       "      <td>00:00'da havai fişek gösterisi yapıldı tam dib...</td>\n",
       "      <td>2021-01-01 03:21:06</td>\n",
       "      <td>NaN</td>\n",
       "    </tr>\n",
       "    <tr>\n",
       "      <th>4</th>\n",
       "      <td>1344805589990453249</td>\n",
       "      <td>31 aralık saat 00.00 da yeni yılımızı kutlayan...</td>\n",
       "      <td>2021-01-01 03:40:12</td>\n",
       "      <td>NaN</td>\n",
       "    </tr>\n",
       "  </tbody>\n",
       "</table>\n",
       "</div>"
      ],
      "text/plain": [
       "              tweet_id                                              tweet  \\\n",
       "0  1344798002490314752  Kardesim (12) sevdigi cocuga 00:00 da ilan-i a...   \n",
       "1  1344799527673470977  Bu yılbaşı da saat tam 00:00'da swni seviyorum...   \n",
       "2  1344799907719348226  tam 00.00da naptınız ben her yıl tam bu vakit ...   \n",
       "3  1344800782802165762  00:00'da havai fişek gösterisi yapıldı tam dib...   \n",
       "4  1344805589990453249  31 aralık saat 00.00 da yeni yılımızı kutlayan...   \n",
       "\n",
       "                  date  label  \n",
       "0  2021-01-01 03:10:03    NaN  \n",
       "1  2021-01-01 03:16:07    NaN  \n",
       "2  2021-01-01 03:17:37    NaN  \n",
       "3  2021-01-01 03:21:06    NaN  \n",
       "4  2021-01-01 03:40:12    NaN  "
      ]
     },
     "execution_count": 8,
     "metadata": {},
     "output_type": "execute_result"
    }
   ],
   "source": [
    "combined_df = pd.concat([train_df,test_df,], ignore_index = True)\n",
    "combined_df.head()"
   ]
  },
  {
   "cell_type": "code",
   "execution_count": 9,
   "id": "a1c7fb89",
   "metadata": {},
   "outputs": [
    {
     "name": "stdout",
     "output_type": "stream",
     "text": [
      "<class 'pandas.core.frame.DataFrame'>\n",
      "RangeIndex: 26232 entries, 0 to 26231\n",
      "Data columns (total 4 columns):\n",
      " #   Column    Non-Null Count  Dtype  \n",
      "---  ------    --------------  -----  \n",
      " 0   tweet_id  26232 non-null  int64  \n",
      " 1   tweet     26231 non-null  object \n",
      " 2   date      26232 non-null  object \n",
      " 3   label     12960 non-null  float64\n",
      "dtypes: float64(1), int64(1), object(2)\n",
      "memory usage: 819.9+ KB\n"
     ]
    }
   ],
   "source": [
    "combined_df.info()"
   ]
  },
  {
   "cell_type": "markdown",
   "id": "bac82903",
   "metadata": {},
   "source": [
    "## Data Cleaning and Future Extraction"
   ]
  },
  {
   "cell_type": "markdown",
   "id": "018fe75c",
   "metadata": {},
   "source": [
    "#### Cleaning\n",
    "1. localize \"date\" column and drop the date column\n",
    "2. change all tweets to lower case\n",
    "3. emoticon classification\n",
    "4. replace special characters and number with space\n",
    "5. remove tweets with one word"
   ]
  },
  {
   "cell_type": "markdown",
   "id": "8caaf1d2",
   "metadata": {},
   "source": [
    "##### 1. localize \"date\" column and drop the date column"
   ]
  },
  {
   "cell_type": "code",
   "execution_count": 36,
   "id": "9ecdaac7",
   "metadata": {},
   "outputs": [],
   "source": [
    "test_df[\"date\"] = pd.to_datetime(test_df[\"date\"])\n",
    "test_df['date'] = test_df['date'].dt.tz_convert('Europe/Istanbul')"
   ]
  },
  {
   "cell_type": "code",
   "execution_count": 38,
   "id": "35570ea2",
   "metadata": {},
   "outputs": [
    {
     "name": "stdout",
     "output_type": "stream",
     "text": [
      "<class 'pandas.core.frame.DataFrame'>\n",
      "RangeIndex: 12960 entries, 0 to 12959\n",
      "Data columns (total 4 columns):\n",
      " #   Column    Non-Null Count  Dtype                          \n",
      "---  ------    --------------  -----                          \n",
      " 0   tweet_id  12960 non-null  int64                          \n",
      " 1   tweet     12960 non-null  object                         \n",
      " 2   date      12960 non-null  datetime64[ns, Europe/Istanbul]\n",
      " 3   label     12960 non-null  int64                          \n",
      "dtypes: datetime64[ns, Europe/Istanbul](1), int64(2), object(1)\n",
      "memory usage: 405.1+ KB\n"
     ]
    }
   ],
   "source": [
    "test_df.info()"
   ]
  },
  {
   "cell_type": "markdown",
   "id": "2deff5dd",
   "metadata": {},
   "source": [
    "now that we have new columns such as mont seasons days and time_interval which is a 4-hour interval between time of the tweet we can say that we future extracted. Now we need to clean the data"
   ]
  },
  {
   "cell_type": "code",
   "execution_count": null,
   "id": "a8f74735",
   "metadata": {},
   "outputs": [],
   "source": [
    "df.drop(\"date\",axis = 1,inplace = True)"
   ]
  },
  {
   "cell_type": "markdown",
   "id": "1fef2f50",
   "metadata": {},
   "source": [
    "##### 2. change all tweets to lower case"
   ]
  },
  {
   "cell_type": "code",
   "execution_count": 27,
   "id": "11598ea5",
   "metadata": {},
   "outputs": [],
   "source": [
    "combined_df[\"tweet\"] = combined_df[\"tweet\"].astype(str)\n",
    "train_df[\"tweet\"] = train_df[\"tweet\"].astype(str)\n",
    "test_df[\"tweet\"] = test_df[\"tweet\"].astype(str)"
   ]
  },
  {
   "cell_type": "code",
   "execution_count": 28,
   "id": "16223c86",
   "metadata": {},
   "outputs": [],
   "source": [
    "combined_df[\"tweet\"] = combined_df[\"tweet\"].apply(lambda str1: str1.lower())\n",
    "train_df[\"tweet\"] = train_df[\"tweet\"].apply(lambda str2: str2.lower())\n",
    "test_df[\"tweet\"] = test_df[\"tweet\"].apply(lambda str3: str3.lower())"
   ]
  },
  {
   "cell_type": "markdown",
   "id": "561334e2",
   "metadata": {},
   "source": [
    "##### 3. emoticon classification"
   ]
  },
  {
   "cell_type": "code",
   "execution_count": 15,
   "id": "9df0505b",
   "metadata": {},
   "outputs": [],
   "source": [
    "emoticon_dict = {\n",
    "\":)\": \"happy\",\n",
    "\":‑)\": \"happy\",\n",
    "\":-]\": \"happy\",\n",
    "\":-3\": \"happy\",\n",
    "\":->\": \"happy\",\n",
    "\"8-)\": \"happy\",\n",
    "\":-}\": \"happy\",\n",
    "\":o)\": \"happy\",\n",
    "\":c)\": \"happy\",\n",
    "\":^)\": \"happy\",\n",
    "\"=]\": \"happy\",\n",
    "\"=)\": \"happy\",\n",
    "\"<3\": \"happy\",\n",
    "\":-(\": \"sad\",\n",
    "\":(\": \"sad\",\n",
    "\":c\": \"sad\",\n",
    "\":<\": \"sad\",\n",
    "\":[\": \"sad\",\n",
    "\">:[\": \"sad\",\n",
    "\":{\": \"sad\",\n",
    "\">:(\": \"sad\",\n",
    "\":-c\": \"sad\",\n",
    "\":-< \": \"sad\",\n",
    "\":-[\": \"sad\",\n",
    "\":-||\": \"sad\"\n",
    "}"
   ]
  },
  {
   "cell_type": "code",
   "execution_count": 18,
   "id": "d0aecca1",
   "metadata": {},
   "outputs": [],
   "source": [
    "def classification(text, dictionary):\n",
    "    for word in text.split():\n",
    "        if word.lower() in dictionary:\n",
    "            if word.lower() in text.split():\n",
    "                text = text.replace(word, dictionary[word.lower()])\n",
    "    return text"
   ]
  },
  {
   "cell_type": "code",
   "execution_count": 29,
   "id": "d8dbbe3e",
   "metadata": {},
   "outputs": [],
   "source": [
    "combined_df[\"tweet\"] = combined_df[\"tweet\"].apply(lambda x: classification(x,emoticon_dict))\n",
    "train_df[\"tweet\"] = train_df[\"tweet\"].apply(lambda x: classification(x,emoticon_dict))\n",
    "test_df[\"tweet\"] = test_df[\"tweet\"].apply(lambda x: classification(x,emoticon_dict))"
   ]
  },
  {
   "cell_type": "markdown",
   "id": "d93f1dd2",
   "metadata": {},
   "source": [
    "##### 4. replace special characters and number with space"
   ]
  },
  {
   "cell_type": "code",
   "execution_count": 30,
   "id": "e702ecd6",
   "metadata": {},
   "outputs": [],
   "source": [
    "combined_df[\"tweet\"] = combined_df[\"tweet\"].apply(lambda x: re.sub(r'[^a-zA-Z0-9]',' ',x))\n",
    "train_df[\"tweet\"] = train_df[\"tweet\"].apply(lambda x: re.sub(r'[^a-zA-Z0-9]',' ',x))\n",
    "test_df[\"tweet\"] = test_df[\"tweet\"].apply(lambda x: re.sub(r'[^a-zA-Z0-9]',' ',x))"
   ]
  },
  {
   "cell_type": "markdown",
   "id": "907bdcef",
   "metadata": {},
   "source": [
    "##### 5. remove tweets with one word"
   ]
  },
  {
   "cell_type": "code",
   "execution_count": 31,
   "id": "ecd0abf2",
   "metadata": {},
   "outputs": [],
   "source": [
    "combined_df[\"tweet\"] = combined_df[\"tweet\"].apply(lambda x: \"\".join([w for w in x.split() if len(w)>1]))\n",
    "train_df[\"tweet\"] = train_df[\"tweet\"].apply(lambda x: \"\".join([w for w in x.split() if len(w)>1]))\n",
    "test_df[\"tweet\"] = test_df[\"tweet\"].apply(lambda x: \"\".join([w for w in x.split() if len(w)>1]))"
   ]
  },
  {
   "cell_type": "code",
   "execution_count": 32,
   "id": "4a268984",
   "metadata": {},
   "outputs": [
    {
     "data": {
      "text/html": [
       "<div>\n",
       "<style scoped>\n",
       "    .dataframe tbody tr th:only-of-type {\n",
       "        vertical-align: middle;\n",
       "    }\n",
       "\n",
       "    .dataframe tbody tr th {\n",
       "        vertical-align: top;\n",
       "    }\n",
       "\n",
       "    .dataframe thead th {\n",
       "        text-align: right;\n",
       "    }\n",
       "</style>\n",
       "<table border=\"1\" class=\"dataframe\">\n",
       "  <thead>\n",
       "    <tr style=\"text-align: right;\">\n",
       "      <th></th>\n",
       "      <th>tweet_id</th>\n",
       "      <th>tweet</th>\n",
       "      <th>date</th>\n",
       "      <th>label</th>\n",
       "    </tr>\n",
       "  </thead>\n",
       "  <tbody>\n",
       "    <tr>\n",
       "      <th>0</th>\n",
       "      <td>1344798002490314752</td>\n",
       "      <td>kardesim12sevdigicocuga0000dailanasketmiscocuk...</td>\n",
       "      <td>2021-01-01 03:10:03</td>\n",
       "      <td>NaN</td>\n",
       "    </tr>\n",
       "    <tr>\n",
       "      <th>1</th>\n",
       "      <td>1344799527673470977</td>\n",
       "      <td>bulbadasaattam0000daswniseviyorummesajgelmedi</td>\n",
       "      <td>2021-01-01 03:16:07</td>\n",
       "      <td>NaN</td>\n",
       "    </tr>\n",
       "    <tr>\n",
       "      <th>2</th>\n",
       "      <td>1344799907719348226</td>\n",
       "      <td>tam0000danaptbenhertambuvakitdinlediimarkbalko...</td>\n",
       "      <td>2021-01-01 03:17:37</td>\n",
       "      <td>NaN</td>\n",
       "    </tr>\n",
       "    <tr>\n",
       "      <th>3</th>\n",
       "      <td>1344800782802165762</td>\n",
       "      <td>0000dahavaifieksterisiyapldtamdibimizdeancakka...</td>\n",
       "      <td>2021-01-01 03:21:06</td>\n",
       "      <td>NaN</td>\n",
       "    </tr>\n",
       "    <tr>\n",
       "      <th>4</th>\n",
       "      <td>1344805589990453249</td>\n",
       "      <td>31aralsaat0000dayenikutlayanbirisiyineolmadbul...</td>\n",
       "      <td>2021-01-01 03:40:12</td>\n",
       "      <td>NaN</td>\n",
       "    </tr>\n",
       "  </tbody>\n",
       "</table>\n",
       "</div>"
      ],
      "text/plain": [
       "              tweet_id                                              tweet  \\\n",
       "0  1344798002490314752  kardesim12sevdigicocuga0000dailanasketmiscocuk...   \n",
       "1  1344799527673470977      bulbadasaattam0000daswniseviyorummesajgelmedi   \n",
       "2  1344799907719348226  tam0000danaptbenhertambuvakitdinlediimarkbalko...   \n",
       "3  1344800782802165762  0000dahavaifieksterisiyapldtamdibimizdeancakka...   \n",
       "4  1344805589990453249  31aralsaat0000dayenikutlayanbirisiyineolmadbul...   \n",
       "\n",
       "                  date  label  \n",
       "0  2021-01-01 03:10:03    NaN  \n",
       "1  2021-01-01 03:16:07    NaN  \n",
       "2  2021-01-01 03:17:37    NaN  \n",
       "3  2021-01-01 03:21:06    NaN  \n",
       "4  2021-01-01 03:40:12    NaN  "
      ]
     },
     "execution_count": 32,
     "metadata": {},
     "output_type": "execute_result"
    }
   ],
   "source": [
    "combined_df.head()"
   ]
  },
  {
   "cell_type": "code",
   "execution_count": 33,
   "id": "3df80548",
   "metadata": {},
   "outputs": [
    {
     "data": {
      "text/html": [
       "<div>\n",
       "<style scoped>\n",
       "    .dataframe tbody tr th:only-of-type {\n",
       "        vertical-align: middle;\n",
       "    }\n",
       "\n",
       "    .dataframe tbody tr th {\n",
       "        vertical-align: top;\n",
       "    }\n",
       "\n",
       "    .dataframe thead th {\n",
       "        text-align: right;\n",
       "    }\n",
       "</style>\n",
       "<table border=\"1\" class=\"dataframe\">\n",
       "  <thead>\n",
       "    <tr style=\"text-align: right;\">\n",
       "      <th></th>\n",
       "      <th>tweet_id</th>\n",
       "      <th>tweet</th>\n",
       "      <th>date</th>\n",
       "    </tr>\n",
       "  </thead>\n",
       "  <tbody>\n",
       "    <tr>\n",
       "      <th>0</th>\n",
       "      <td>1344798002490314752</td>\n",
       "      <td>kardesim12sevdigicocuga0000dailanasketmiscocuk...</td>\n",
       "      <td>2021-01-01 03:10:03</td>\n",
       "    </tr>\n",
       "    <tr>\n",
       "      <th>1</th>\n",
       "      <td>1344799527673470977</td>\n",
       "      <td>bulbadasaattam0000daswniseviyorummesajgelmedi</td>\n",
       "      <td>2021-01-01 03:16:07</td>\n",
       "    </tr>\n",
       "    <tr>\n",
       "      <th>2</th>\n",
       "      <td>1344799907719348226</td>\n",
       "      <td>tam0000danaptbenhertambuvakitdinlediimarkbalko...</td>\n",
       "      <td>2021-01-01 03:17:37</td>\n",
       "    </tr>\n",
       "    <tr>\n",
       "      <th>3</th>\n",
       "      <td>1344800782802165762</td>\n",
       "      <td>0000dahavaifieksterisiyapldtamdibimizdeancakka...</td>\n",
       "      <td>2021-01-01 03:21:06</td>\n",
       "    </tr>\n",
       "    <tr>\n",
       "      <th>4</th>\n",
       "      <td>1344805589990453249</td>\n",
       "      <td>31aralsaat0000dayenikutlayanbirisiyineolmadbul...</td>\n",
       "      <td>2021-01-01 03:40:12</td>\n",
       "    </tr>\n",
       "  </tbody>\n",
       "</table>\n",
       "</div>"
      ],
      "text/plain": [
       "              tweet_id                                              tweet  \\\n",
       "0  1344798002490314752  kardesim12sevdigicocuga0000dailanasketmiscocuk...   \n",
       "1  1344799527673470977      bulbadasaattam0000daswniseviyorummesajgelmedi   \n",
       "2  1344799907719348226  tam0000danaptbenhertambuvakitdinlediimarkbalko...   \n",
       "3  1344800782802165762  0000dahavaifieksterisiyapldtamdibimizdeancakka...   \n",
       "4  1344805589990453249  31aralsaat0000dayenikutlayanbirisiyineolmadbul...   \n",
       "\n",
       "                  date  \n",
       "0  2021-01-01 03:10:03  \n",
       "1  2021-01-01 03:16:07  \n",
       "2  2021-01-01 03:17:37  \n",
       "3  2021-01-01 03:21:06  \n",
       "4  2021-01-01 03:40:12  "
      ]
     },
     "execution_count": 33,
     "metadata": {},
     "output_type": "execute_result"
    }
   ],
   "source": [
    "train_df.head()"
   ]
  },
  {
   "cell_type": "code",
   "execution_count": 34,
   "id": "87bcabe9",
   "metadata": {},
   "outputs": [
    {
     "data": {
      "text/html": [
       "<div>\n",
       "<style scoped>\n",
       "    .dataframe tbody tr th:only-of-type {\n",
       "        vertical-align: middle;\n",
       "    }\n",
       "\n",
       "    .dataframe tbody tr th {\n",
       "        vertical-align: top;\n",
       "    }\n",
       "\n",
       "    .dataframe thead th {\n",
       "        text-align: right;\n",
       "    }\n",
       "</style>\n",
       "<table border=\"1\" class=\"dataframe\">\n",
       "  <thead>\n",
       "    <tr style=\"text-align: right;\">\n",
       "      <th></th>\n",
       "      <th>tweet_id</th>\n",
       "      <th>tweet</th>\n",
       "      <th>date</th>\n",
       "      <th>label</th>\n",
       "    </tr>\n",
       "  </thead>\n",
       "  <tbody>\n",
       "    <tr>\n",
       "      <th>0</th>\n",
       "      <td>1606767075984375808</td>\n",
       "      <td>berkalikedimseniokzledimlmekindahaktseniseviyo...</td>\n",
       "      <td>2022-12-24 21:41:37+00:00</td>\n",
       "      <td>1</td>\n",
       "    </tr>\n",
       "    <tr>\n",
       "      <th>1</th>\n",
       "      <td>1537178207677448193</td>\n",
       "      <td>yaniylesineciddiyealacakskiyaamayyetmiindebile...</td>\n",
       "      <td>2022-06-15 21:00:18+00:00</td>\n",
       "      <td>1</td>\n",
       "    </tr>\n",
       "    <tr>\n",
       "      <th>2</th>\n",
       "      <td>1536458790802972673</td>\n",
       "      <td>salarlgesindelmeknezeldi</td>\n",
       "      <td>2022-06-13 21:21:36+00:00</td>\n",
       "      <td>1</td>\n",
       "    </tr>\n",
       "    <tr>\n",
       "      <th>3</th>\n",
       "      <td>1495413883166760960</td>\n",
       "      <td>ylezelbaktkizlerimesevmekdeillmekgeldiimden</td>\n",
       "      <td>2022-02-20 15:03:47+00:00</td>\n",
       "      <td>1</td>\n",
       "    </tr>\n",
       "    <tr>\n",
       "      <th>4</th>\n",
       "      <td>1490420667614904334</td>\n",
       "      <td>sevmekbiriinlmekdeilhereyeramenyaayabilmekmi</td>\n",
       "      <td>2022-02-06 20:22:32+00:00</td>\n",
       "      <td>1</td>\n",
       "    </tr>\n",
       "  </tbody>\n",
       "</table>\n",
       "</div>"
      ],
      "text/plain": [
       "              tweet_id                                              tweet  \\\n",
       "0  1606767075984375808  berkalikedimseniokzledimlmekindahaktseniseviyo...   \n",
       "1  1537178207677448193  yaniylesineciddiyealacakskiyaamayyetmiindebile...   \n",
       "2  1536458790802972673                           salarlgesindelmeknezeldi   \n",
       "3  1495413883166760960        ylezelbaktkizlerimesevmekdeillmekgeldiimden   \n",
       "4  1490420667614904334       sevmekbiriinlmekdeilhereyeramenyaayabilmekmi   \n",
       "\n",
       "                        date  label  \n",
       "0  2022-12-24 21:41:37+00:00      1  \n",
       "1  2022-06-15 21:00:18+00:00      1  \n",
       "2  2022-06-13 21:21:36+00:00      1  \n",
       "3  2022-02-20 15:03:47+00:00      1  \n",
       "4  2022-02-06 20:22:32+00:00      1  "
      ]
     },
     "execution_count": 34,
     "metadata": {},
     "output_type": "execute_result"
    }
   ],
   "source": [
    "test_df.head()"
   ]
  },
  {
   "cell_type": "markdown",
   "id": "269c2ca0",
   "metadata": {},
   "source": [
    "Now we can also say that data is cleaned. From now on we will be focusing on EDA of the data with questions like in what time period was the users posted the most negative tweets and so on."
   ]
  },
  {
   "cell_type": "markdown",
   "id": "268e9e18",
   "metadata": {},
   "source": [
    "## Exploratory Data Analysis"
   ]
  },
  {
   "cell_type": "markdown",
   "id": "5e66ea40",
   "metadata": {},
   "source": [
    "### Questions\n",
    "1. What is the distribution of labels (e.g., positive, negative, neutral)?\n",
    "2. How does the distribution of labels vary over time (date)?\n",
    "3. What are the most common words or phrases in the tweets?\n",
    "4. Is there any correlation between tweet length and label?\n",
    "5. Are there any patterns in the dates of the tweets (e.g., spikes in activity on certain days)?\n",
    "6. How many unique users (tweet_id) are represented in the dataset?\n",
    "7. Can we identify any trends or themes in the tweets based on the label?"
   ]
  },
  {
   "cell_type": "markdown",
   "id": "d352d657",
   "metadata": {},
   "source": [
    "1. What is the ratio of the positive negative and natural tweets"
   ]
  },
  {
   "cell_type": "code",
   "execution_count": 31,
   "id": "24a20156",
   "metadata": {},
   "outputs": [
    {
     "data": {
      "text/plain": [
       "label\n",
       " 0    8449\n",
       "-1    2904\n",
       " 1    1607\n",
       "Name: count, dtype: int64"
      ]
     },
     "execution_count": 31,
     "metadata": {},
     "output_type": "execute_result"
    }
   ],
   "source": [
    "ratio = df[\"label\"].value_counts()\n",
    "ratio"
   ]
  },
  {
   "cell_type": "code",
   "execution_count": 32,
   "id": "c61a55ef",
   "metadata": {},
   "outputs": [
    {
     "data": {
      "image/png": "[encoded data removed]",
      "text/plain": [
       "<Figure size 800x500 with 1 Axes>"
      ]
     },
     "metadata": {},
     "output_type": "display_data"
    }
   ],
   "source": [
    "ratio = df[\"label\"].value_counts()\n",
    "\n",
    "plt.figure(figsize = (8,5),dpi = 100)\n",
    "plt.hist(ratio,color = \"#731873\",edgecolor = \"k\")\n",
    "\n",
    "plt.xticks([-1,0,1])\n",
    "\n",
    "plt.ylabel('Frequency of Tweets')\n",
    "plt.xlabel('')\n",
    "plt.title('Distribution')\n",
    "plt.show()"
   ]
  },
  {
   "cell_type": "code",
   "execution_count": null,
   "id": "202d1804",
   "metadata": {},
   "outputs": [],
   "source": []
  },
  {
   "cell_type": "markdown",
   "id": "77e90b39",
   "metadata": {},
   "source": [
    "## Model Training"
   ]
  },
  {
   "cell_type": "code",
   "execution_count": null,
   "id": "419fa94c",
   "metadata": {},
   "outputs": [],
   "source": []
  },
  {
   "cell_type": "markdown",
   "id": "b68ed352",
   "metadata": {},
   "source": [
    "## Deployment"
   ]
  },
  {
   "cell_type": "code",
   "execution_count": 84,
   "id": "68b3ebdb",
   "metadata": {
    "collapsed": true
   },
   "outputs": [
    {
     "name": "stdout",
     "output_type": "stream",
     "text": [
      "Collecting streamlit\n",
      "  Obtaining dependency information for streamlit from https://files.pythonhosted.org/packages/9b/ea/7219c01b5e92d02d2bc994a36245d99331cd66eb12d284707a2060a013d0/streamlit-1.32.2-py2.py3-none-any.whl.metadata\n",
      "  Downloading streamlit-1.32.2-py2.py3-none-any.whl.metadata (8.5 kB)\n",
      "Collecting altair<6,>=4.0 (from streamlit)\n",
      "  Obtaining dependency information for altair<6,>=4.0 from https://files.pythonhosted.org/packages/c5/e4/7fcceef127badbb0d644d730d992410e4f3799b295c9964a172f92a469c7/altair-5.2.0-py3-none-any.whl.metadata\n",
      "  Downloading altair-5.2.0-py3-none-any.whl.metadata (8.7 kB)\n",
      "Collecting blinker<2,>=1.0.0 (from streamlit)\n",
      "  Obtaining dependency information for blinker<2,>=1.0.0 from https://files.pythonhosted.org/packages/fa/2a/7f3714cbc6356a0efec525ce7a0613d581072ed6eb53eb7b9754f33db807/blinker-1.7.0-py3-none-any.whl.metadata\n",
      "  Downloading blinker-1.7.0-py3-none-any.whl.metadata (1.9 kB)\n",
      "Requirement already satisfied: cachetools<6,>=4.0 in c:\\users\\mustafa\\anaconda3\\lib\\site-packages (from streamlit) (5.3.2)\n",
      "Requirement already satisfied: click<9,>=7.0 in c:\\users\\mustafa\\anaconda3\\lib\\site-packages (from streamlit) (8.0.4)\n",
      "Requirement already satisfied: numpy<2,>=1.19.3 in c:\\users\\mustafa\\anaconda3\\lib\\site-packages (from streamlit) (1.26.3)\n",
      "Requirement already satisfied: packaging<24,>=16.8 in c:\\users\\mustafa\\anaconda3\\lib\\site-packages (from streamlit) (23.1)\n",
      "Requirement already satisfied: pandas<3,>=1.3.0 in c:\\users\\mustafa\\anaconda3\\lib\\site-packages (from streamlit) (2.0.3)\n",
      "Requirement already satisfied: pillow<11,>=7.1.0 in c:\\users\\mustafa\\anaconda3\\lib\\site-packages (from streamlit) (9.4.0)\n",
      "Requirement already satisfied: protobuf<5,>=3.20 in c:\\users\\mustafa\\anaconda3\\lib\\site-packages (from streamlit) (3.20.3)\n",
      "Requirement already satisfied: pyarrow>=7.0 in c:\\users\\mustafa\\anaconda3\\lib\\site-packages (from streamlit) (11.0.0)\n",
      "Requirement already satisfied: requests<3,>=2.27 in c:\\users\\mustafa\\anaconda3\\lib\\site-packages (from streamlit) (2.31.0)\n",
      "Collecting rich<14,>=10.14.0 (from streamlit)\n",
      "  Obtaining dependency information for rich<14,>=10.14.0 from https://files.pythonhosted.org/packages/87/67/a37f6214d0e9fe57f6ae54b2956d550ca8365857f42a1ce0392bb21d9410/rich-13.7.1-py3-none-any.whl.metadata\n",
      "  Downloading rich-13.7.1-py3-none-any.whl.metadata (18 kB)\n",
      "Requirement already satisfied: tenacity<9,>=8.1.0 in c:\\users\\mustafa\\anaconda3\\lib\\site-packages (from streamlit) (8.2.2)\n",
      "Requirement already satisfied: toml<2,>=0.10.1 in c:\\users\\mustafa\\anaconda3\\lib\\site-packages (from streamlit) (0.10.2)\n",
      "Requirement already satisfied: typing-extensions<5,>=4.3.0 in c:\\users\\mustafa\\anaconda3\\lib\\site-packages (from streamlit) (4.10.0)\n",
      "Collecting gitpython!=3.1.19,<4,>=3.0.7 (from streamlit)\n",
      "  Obtaining dependency information for gitpython!=3.1.19,<4,>=3.0.7 from https://files.pythonhosted.org/packages/67/c7/995360c87dd74e27539ccbfecddfb58e08f140d849fcd7f35d2ed1a5f80f/GitPython-3.1.42-py3-none-any.whl.metadata\n",
      "  Downloading GitPython-3.1.42-py3-none-any.whl.metadata (12 kB)\n",
      "Collecting pydeck<1,>=0.8.0b4 (from streamlit)\n",
      "  Obtaining dependency information for pydeck<1,>=0.8.0b4 from https://files.pythonhosted.org/packages/10/4b/2fc80540e2d3903452245bb657c7f758ec7342420507d1e4091b0161856e/pydeck-0.8.1b0-py2.py3-none-any.whl.metadata\n",
      "  Downloading pydeck-0.8.1b0-py2.py3-none-any.whl.metadata (3.9 kB)\n",
      "Requirement already satisfied: tornado<7,>=6.0.3 in c:\\users\\mustafa\\anaconda3\\lib\\site-packages (from streamlit) (6.3.2)\n",
      "Requirement already satisfied: watchdog>=2.1.5 in c:\\users\\mustafa\\anaconda3\\lib\\site-packages (from streamlit) (2.1.6)\n",
      "Requirement already satisfied: jinja2 in c:\\users\\mustafa\\anaconda3\\lib\\site-packages (from altair<6,>=4.0->streamlit) (3.1.2)\n",
      "Requirement already satisfied: jsonschema>=3.0 in c:\\users\\mustafa\\anaconda3\\lib\\site-packages (from altair<6,>=4.0->streamlit) (4.17.3)\n",
      "Requirement already satisfied: toolz in c:\\users\\mustafa\\anaconda3\\lib\\site-packages (from altair<6,>=4.0->streamlit) (0.12.0)\n",
      "Requirement already satisfied: colorama in c:\\users\\mustafa\\anaconda3\\lib\\site-packages (from click<9,>=7.0->streamlit) (0.4.6)\n",
      "Collecting gitdb<5,>=4.0.1 (from gitpython!=3.1.19,<4,>=3.0.7->streamlit)\n",
      "  Obtaining dependency information for gitdb<5,>=4.0.1 from https://files.pythonhosted.org/packages/fd/5b/8f0c4a5bb9fd491c277c21eff7ccae71b47d43c4446c9d0c6cff2fe8c2c4/gitdb-4.0.11-py3-none-any.whl.metadata\n",
      "  Downloading gitdb-4.0.11-py3-none-any.whl.metadata (1.2 kB)\n",
      "Requirement already satisfied: python-dateutil>=2.8.2 in c:\\users\\mustafa\\anaconda3\\lib\\site-packages (from pandas<3,>=1.3.0->streamlit) (2.8.2)\n",
      "Requirement already satisfied: pytz>=2020.1 in c:\\users\\mustafa\\anaconda3\\lib\\site-packages (from pandas<3,>=1.3.0->streamlit) (2023.3.post1)\n",
      "Requirement already satisfied: tzdata>=2022.1 in c:\\users\\mustafa\\anaconda3\\lib\\site-packages (from pandas<3,>=1.3.0->streamlit) (2023.3)\n",
      "Requirement already satisfied: charset-normalizer<4,>=2 in c:\\users\\mustafa\\anaconda3\\lib\\site-packages (from requests<3,>=2.27->streamlit) (2.0.4)\n",
      "Requirement already satisfied: idna<4,>=2.5 in c:\\users\\mustafa\\anaconda3\\lib\\site-packages (from requests<3,>=2.27->streamlit) (3.4)\n",
      "Requirement already satisfied: urllib3<3,>=1.21.1 in c:\\users\\mustafa\\anaconda3\\lib\\site-packages (from requests<3,>=2.27->streamlit) (1.26.16)\n",
      "Requirement already satisfied: certifi>=2017.4.17 in c:\\users\\mustafa\\anaconda3\\lib\\site-packages (from requests<3,>=2.27->streamlit) (2023.7.22)\n",
      "Requirement already satisfied: markdown-it-py>=2.2.0 in c:\\users\\mustafa\\anaconda3\\lib\\site-packages (from rich<14,>=10.14.0->streamlit) (2.2.0)\n",
      "Requirement already satisfied: pygments<3.0.0,>=2.13.0 in c:\\users\\mustafa\\anaconda3\\lib\\site-packages (from rich<14,>=10.14.0->streamlit) (2.15.1)\n",
      "Collecting smmap<6,>=3.0.1 (from gitdb<5,>=4.0.1->gitpython!=3.1.19,<4,>=3.0.7->streamlit)\n",
      "  Obtaining dependency information for smmap<6,>=3.0.1 from https://files.pythonhosted.org/packages/a7/a5/10f97f73544edcdef54409f1d839f6049a0d79df68adbc1ceb24d1aaca42/smmap-5.0.1-py3-none-any.whl.metadata\n",
      "  Downloading smmap-5.0.1-py3-none-any.whl.metadata (4.3 kB)\n",
      "Requirement already satisfied: MarkupSafe>=2.0 in c:\\users\\mustafa\\anaconda3\\lib\\site-packages (from jinja2->altair<6,>=4.0->streamlit) (2.1.1)\n",
      "Requirement already satisfied: attrs>=17.4.0 in c:\\users\\mustafa\\anaconda3\\lib\\site-packages (from jsonschema>=3.0->altair<6,>=4.0->streamlit) (21.4.0)\n",
      "Requirement already satisfied: pyrsistent!=0.17.0,!=0.17.1,!=0.17.2,>=0.14.0 in c:\\users\\mustafa\\anaconda3\\lib\\site-packages (from jsonschema>=3.0->altair<6,>=4.0->streamlit) (0.18.0)\n",
      "Requirement already satisfied: mdurl~=0.1 in c:\\users\\mustafa\\anaconda3\\lib\\site-packages (from markdown-it-py>=2.2.0->rich<14,>=10.14.0->streamlit) (0.1.0)\n",
      "Requirement already satisfied: six>=1.5 in c:\\users\\mustafa\\anaconda3\\lib\\site-packages (from python-dateutil>=2.8.2->pandas<3,>=1.3.0->streamlit) (1.16.0)\n",
      "Downloading streamlit-1.32.2-py2.py3-none-any.whl (8.1 MB)\n",
      "   ---------------------------------------- 0.0/8.1 MB ? eta -:--:--\n",
      "   ---------------------------------------- 0.0/8.1 MB 1.4 MB/s eta 0:00:06\n",
      "   ---------------------------------------- 0.1/8.1 MB 1.1 MB/s eta 0:00:08\n",
      "    --------------------------------------- 0.2/8.1 MB 1.2 MB/s eta 0:00:07\n",
      "   - -------------------------------------- 0.2/8.1 MB 1.4 MB/s eta 0:00:06\n",
      "   - -------------------------------------- 0.4/8.1 MB 1.6 MB/s eta 0:00:05\n",
      "   -- ------------------------------------- 0.5/8.1 MB 1.7 MB/s eta 0:00:05\n",
      "   --- ------------------------------------ 0.7/8.1 MB 2.0 MB/s eta 0:00:04\n",
      "   ----- ---------------------------------- 1.2/8.1 MB 3.2 MB/s eta 0:00:03\n",
      "   ------- -------------------------------- 1.5/8.1 MB 3.6 MB/s eta 0:00:02\n",
      "   --------- ------------------------------ 2.0/8.1 MB 4.2 MB/s eta 0:00:02\n",
      "   ------------ --------------------------- 2.6/8.1 MB 5.0 MB/s eta 0:00:02\n",
      "   --------------- ------------------------ 3.1/8.1 MB 5.5 MB/s eta 0:00:01\n",
      "   ----------------- ---------------------- 3.5/8.1 MB 5.8 MB/s eta 0:00:01\n",
      "   ------------------- -------------------- 3.9/8.1 MB 5.9 MB/s eta 0:00:01\n",
      "   ---------------------- ----------------- 4.5/8.1 MB 6.4 MB/s eta 0:00:01\n",
      "   ------------------------ --------------- 4.9/8.1 MB 6.5 MB/s eta 0:00:01\n",
      "   -------------------------- ------------- 5.5/8.1 MB 7.0 MB/s eta 0:00:01\n",
      "   ----------------------------- ---------- 6.1/8.1 MB 7.2 MB/s eta 0:00:01\n",
      "   -------------------------------- ------- 6.7/8.1 MB 7.5 MB/s eta 0:00:01\n",
      "   ------------------------------------ --- 7.3/8.1 MB 7.7 MB/s eta 0:00:01\n",
      "   -------------------------------------- - 7.8/8.1 MB 7.9 MB/s eta 0:00:01\n",
      "   ---------------------------------------  8.1/8.1 MB 8.0 MB/s eta 0:00:01\n",
      "   ---------------------------------------- 8.1/8.1 MB 7.6 MB/s eta 0:00:00\n",
      "Downloading altair-5.2.0-py3-none-any.whl (996 kB)\n",
      "   ---------------------------------------- 0.0/996.9 kB ? eta -:--:--\n",
      "   ------------------- ------------------- 501.8/996.9 kB 10.5 MB/s eta 0:00:01\n",
      "   --------------------------------------- 996.9/996.9 kB 12.6 MB/s eta 0:00:00\n",
      "Downloading blinker-1.7.0-py3-none-any.whl (13 kB)\n",
      "Downloading GitPython-3.1.42-py3-none-any.whl (195 kB)\n",
      "   ---------------------------------------- 0.0/195.4 kB ? eta -:--:--\n",
      "   --------------------------------------- 195.4/195.4 kB 12.3 MB/s eta 0:00:00\n",
      "Downloading pydeck-0.8.1b0-py2.py3-none-any.whl (4.8 MB)\n",
      "   ---------------------------------------- 0.0/4.8 MB ? eta -:--:--\n",
      "   --- ------------------------------------ 0.4/4.8 MB 13.4 MB/s eta 0:00:01\n",
      "   -------- ------------------------------- 1.0/4.8 MB 12.2 MB/s eta 0:00:01\n",
      "   ------------ --------------------------- 1.5/4.8 MB 12.1 MB/s eta 0:00:01\n",
      "   ------------------ --------------------- 2.2/4.8 MB 12.5 MB/s eta 0:00:01\n",
      "   ---------------------- ----------------- 2.7/4.8 MB 12.4 MB/s eta 0:00:01\n",
      "   ---------------------------- ----------- 3.4/4.8 MB 12.6 MB/s eta 0:00:01\n",
      "   -------------------------------- ------- 3.9/4.8 MB 12.5 MB/s eta 0:00:01\n",
      "   ------------------------------------ --- 4.4/4.8 MB 12.2 MB/s eta 0:00:01\n",
      "   ---------------------------------------  4.8/4.8 MB 12.2 MB/s eta 0:00:01\n",
      "   ---------------------------------------- 4.8/4.8 MB 11.3 MB/s eta 0:00:00\n",
      "Downloading rich-13.7.1-py3-none-any.whl (240 kB)\n",
      "   ---------------------------------------- 0.0/240.7 kB ? eta -:--:--\n",
      "   --------------------------------------- 240.7/240.7 kB 14.4 MB/s eta 0:00:00\n",
      "Downloading gitdb-4.0.11-py3-none-any.whl (62 kB)\n",
      "   ---------------------------------------- 0.0/62.7 kB ? eta -:--:--\n",
      "   ---------------------------------------- 62.7/62.7 kB 3.3 MB/s eta 0:00:00\n",
      "Downloading smmap-5.0.1-py3-none-any.whl (24 kB)\n",
      "Installing collected packages: smmap, blinker, rich, pydeck, gitdb, gitpython, altair, streamlit\n",
      "Successfully installed altair-5.2.0 blinker-1.7.0 gitdb-4.0.11 gitpython-3.1.42 pydeck-0.8.1b0 rich-13.7.1 smmap-5.0.1 streamlit-1.32.2\n",
      "Note: you may need to restart the kernel to use updated packages.\n"
     ]
    }
   ],
   "source": [
    "pip install streamlit"
   ]
  },
  {
   "cell_type": "code",
   "execution_count": 80,
   "id": "701f6b40",
   "metadata": {},
   "outputs": [],
   "source": [
    "def cleaning_text(text):\n",
    "    text = text.lower()\n",
    "    text = classification(text,emoticon_dict)\n",
    "    text = re.sub(r'[^a-zA-Z0-9]', ' ', text)\n",
    "    \n",
    "    word_and_space_remover = lambda x: \"\".join([w for w in x.split() if len(w)>1])\n",
    "    text = word_and_space_remover(text)"
   ]
  }
 ],
 "metadata": {
  "kernelspec": {
   "display_name": "Python 3 (ipykernel)",
   "language": "python",
   "name": "python3"
  },
  "language_info": {
   "codemirror_mode": {
    "name": "ipython",
    "version": 3
   },
   "file_extension": ".py",
   "mimetype": "text/x-python",
   "name": "python",
   "nbconvert_exporter": "python",
   "pygments_lexer": "ipython3",
   "version": "3.11.5"
  }
 },
 "nbformat": 4,
 "nbformat_minor": 5
}
