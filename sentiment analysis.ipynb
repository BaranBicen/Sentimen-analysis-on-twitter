{
 "cells": [
  {
   "cell_type": "code",
   "execution_count": 15,
   "id": "9b980f17",
   "metadata": {},
   "outputs": [],
   "source": [
    "import pandas as pd\n",
    "import numpy as np\n",
    "import matplotlib.pyplot as plt\n",
    "import seaborn as sns\n",
    "from datetime import datetime"
   ]
  },
  {
   "cell_type": "code",
   "execution_count": 9,
   "id": "3dddfc56",
   "metadata": {},
   "outputs": [],
   "source": [
    "df = pd.read_csv(\"tweets_labeled.csv\")"
   ]
  },
  {
   "cell_type": "code",
   "execution_count": 10,
   "id": "2841f9ef",
   "metadata": {},
   "outputs": [
    {
     "data": {
      "text/html": [
       "<div>\n",
       "<style scoped>\n",
       "    .dataframe tbody tr th:only-of-type {\n",
       "        vertical-align: middle;\n",
       "    }\n",
       "\n",
       "    .dataframe tbody tr th {\n",
       "        vertical-align: top;\n",
       "    }\n",
       "\n",
       "    .dataframe thead th {\n",
       "        text-align: right;\n",
       "    }\n",
       "</style>\n",
       "<table border=\"1\" class=\"dataframe\">\n",
       "  <thead>\n",
       "    <tr style=\"text-align: right;\">\n",
       "      <th></th>\n",
       "      <th>tweet_id</th>\n",
       "      <th>tweet</th>\n",
       "      <th>date</th>\n",
       "      <th>label</th>\n",
       "    </tr>\n",
       "  </thead>\n",
       "  <tbody>\n",
       "    <tr>\n",
       "      <th>0</th>\n",
       "      <td>1606767075984375808</td>\n",
       "      <td>Berk Ali (kedim) seni çok özledim. Ölmek için ...</td>\n",
       "      <td>2022-12-24 21:41:37+00:00</td>\n",
       "      <td>1</td>\n",
       "    </tr>\n",
       "    <tr>\n",
       "      <th>1</th>\n",
       "      <td>1537178207677448193</td>\n",
       "      <td>Yani, öylesine ciddiye alacaksın ki yaşamayı, ...</td>\n",
       "      <td>2022-06-15 21:00:18+00:00</td>\n",
       "      <td>1</td>\n",
       "    </tr>\n",
       "    <tr>\n",
       "      <th>2</th>\n",
       "      <td>1536458790802972673</td>\n",
       "      <td>saçlarının gölgesinde\\nölmek ne güzeldi</td>\n",
       "      <td>2022-06-13 21:21:36+00:00</td>\n",
       "      <td>1</td>\n",
       "    </tr>\n",
       "    <tr>\n",
       "      <th>3</th>\n",
       "      <td>1495413883166760960</td>\n",
       "      <td>Öyle güzel baktın ki, gözlerime\\nsevmek değil ...</td>\n",
       "      <td>2022-02-20 15:03:47+00:00</td>\n",
       "      <td>1</td>\n",
       "    </tr>\n",
       "    <tr>\n",
       "      <th>4</th>\n",
       "      <td>1490420667614904334</td>\n",
       "      <td>sevmek biri için ölmek değil her şeye rağmen y...</td>\n",
       "      <td>2022-02-06 20:22:32+00:00</td>\n",
       "      <td>1</td>\n",
       "    </tr>\n",
       "  </tbody>\n",
       "</table>\n",
       "</div>"
      ],
      "text/plain": [
       "              tweet_id                                              tweet  \\\n",
       "0  1606767075984375808  Berk Ali (kedim) seni çok özledim. Ölmek için ...   \n",
       "1  1537178207677448193  Yani, öylesine ciddiye alacaksın ki yaşamayı, ...   \n",
       "2  1536458790802972673            saçlarının gölgesinde\\nölmek ne güzeldi   \n",
       "3  1495413883166760960  Öyle güzel baktın ki, gözlerime\\nsevmek değil ...   \n",
       "4  1490420667614904334  sevmek biri için ölmek değil her şeye rağmen y...   \n",
       "\n",
       "                        date  label  \n",
       "0  2022-12-24 21:41:37+00:00      1  \n",
       "1  2022-06-15 21:00:18+00:00      1  \n",
       "2  2022-06-13 21:21:36+00:00      1  \n",
       "3  2022-02-20 15:03:47+00:00      1  \n",
       "4  2022-02-06 20:22:32+00:00      1  "
      ]
     },
     "execution_count": 10,
     "metadata": {},
     "output_type": "execute_result"
    }
   ],
   "source": [
    "df.head()"
   ]
  },
  {
   "cell_type": "code",
   "execution_count": 11,
   "id": "5bb97781",
   "metadata": {},
   "outputs": [
    {
     "name": "stdout",
     "output_type": "stream",
     "text": [
      "<class 'pandas.core.frame.DataFrame'>\n",
      "RangeIndex: 12960 entries, 0 to 12959\n",
      "Data columns (total 4 columns):\n",
      " #   Column    Non-Null Count  Dtype \n",
      "---  ------    --------------  ----- \n",
      " 0   tweet_id  12960 non-null  int64 \n",
      " 1   tweet     12959 non-null  object\n",
      " 2   date      12960 non-null  object\n",
      " 3   label     12960 non-null  int64 \n",
      "dtypes: int64(2), object(2)\n",
      "memory usage: 405.1+ KB\n"
     ]
    }
   ],
   "source": [
    "df.info()"
   ]
  },
  {
   "cell_type": "markdown",
   "id": "bac82903",
   "metadata": {},
   "source": [
    "## Data Cleaning and Future Extraction"
   ]
  },
  {
   "cell_type": "markdown",
   "id": "018fe75c",
   "metadata": {},
   "source": [
    "#### Cleaning\n",
    "1. localize \"date\" column and drop the date column\n",
    "2. change all tweets to lower case\n",
    "3. look up for aphostrophes, short words and emoticons\n",
    "4. replace special characters and number with space\n",
    "5. remove tweets with one word"
   ]
  },
  {
   "cell_type": "markdown",
   "id": "8caaf1d2",
   "metadata": {},
   "source": [
    "##### 1. localize \"date\" column and drop the date column"
   ]
  },
  {
   "cell_type": "code",
   "execution_count": 19,
   "id": "9ecdaac7",
   "metadata": {},
   "outputs": [],
   "source": [
    "df[\"date\"] = pd.to_datetime(df[\"date\"])\n",
    "df['date'] = df['date'].dt.tz_localize(None)"
   ]
  },
  {
   "cell_type": "code",
   "execution_count": 23,
   "id": "4500451a",
   "metadata": {},
   "outputs": [
    {
     "name": "stdout",
     "output_type": "stream",
     "text": [
      "<class 'pandas.core.frame.DataFrame'>\n",
      "RangeIndex: 12960 entries, 0 to 12959\n",
      "Data columns (total 8 columns):\n",
      " #   Column         Non-Null Count  Dtype         \n",
      "---  ------         --------------  -----         \n",
      " 0   tweet_id       12960 non-null  int64         \n",
      " 1   tweet          12959 non-null  object        \n",
      " 2   date           12960 non-null  datetime64[ns]\n",
      " 3   label          12960 non-null  int64         \n",
      " 4   month          12960 non-null  object        \n",
      " 5   seasons        12960 non-null  object        \n",
      " 6   days           12960 non-null  object        \n",
      " 7   time_interval  12960 non-null  object        \n",
      "dtypes: datetime64[ns](1), int64(2), object(5)\n",
      "memory usage: 810.1+ KB\n"
     ]
    }
   ],
   "source": [
    "df.info()"
   ]
  },
  {
   "cell_type": "markdown",
   "id": "2deff5dd",
   "metadata": {},
   "source": [
    "now that we have new columns such as mont seasons days and time_interval which is a 4-hour interval between time of the tweet we can say that we future extracted. Now we need to clean the data"
   ]
  },
  {
   "cell_type": "code",
   "execution_count": 25,
   "id": "6295b56b",
   "metadata": {},
   "outputs": [],
   "source": [
    "df.drop(\"date\",axis = 1,inplace = True)"
   ]
  },
  {
   "cell_type": "markdown",
   "id": "1fef2f50",
   "metadata": {},
   "source": [
    "##### 2. change all tweets to lower case"
   ]
  },
  {
   "cell_type": "code",
   "execution_count": null,
   "id": "16223c86",
   "metadata": {},
   "outputs": [],
   "source": []
  },
  {
   "cell_type": "code",
   "execution_count": null,
   "id": "6c8a0e9d",
   "metadata": {},
   "outputs": [],
   "source": []
  },
  {
   "cell_type": "markdown",
   "id": "269c2ca0",
   "metadata": {},
   "source": [
    "Now we can also say that data is cleaned. From now on we will be focusing on EDA of the data with questions like in what time period was the users posted the most negative tweets and so on."
   ]
  },
  {
   "cell_type": "markdown",
   "id": "268e9e18",
   "metadata": {},
   "source": [
    "## Exploratory Data Analysis"
   ]
  },
  {
   "cell_type": "markdown",
   "id": "5e66ea40",
   "metadata": {},
   "source": [
    "#### Questions\n",
    "1. What is the ratio of the positive negative and natural tweets"
   ]
  },
  {
   "cell_type": "markdown",
   "id": "d352d657",
   "metadata": {},
   "source": [
    "1. What is the ratio of the positive negative and natural tweets"
   ]
  },
  {
   "cell_type": "code",
   "execution_count": 31,
   "id": "24a20156",
   "metadata": {},
   "outputs": [
    {
     "data": {
      "text/plain": [
       "label\n",
       " 0    8449\n",
       "-1    2904\n",
       " 1    1607\n",
       "Name: count, dtype: int64"
      ]
     },
     "execution_count": 31,
     "metadata": {},
     "output_type": "execute_result"
    }
   ],
   "source": [
    "ratio = df[\"label\"].value_counts()\n",
    "ratio"
   ]
  },
  {
   "cell_type": "code",
   "execution_count": 32,
   "id": "c61a55ef",
   "metadata": {},
   "outputs": [
    {
     "data": {
      "image/png": "[encoded data removed]",
      "text/plain": [
       "<Figure size 800x500 with 1 Axes>"
      ]
     },
     "metadata": {},
     "output_type": "display_data"
    }
   ],
   "source": [
    "ratio = df[\"label\"].value_counts()\n",
    "\n",
    "plt.figure(figsize = (8,5),dpi = 100)\n",
    "plt.hist(ratio,color = \"#731873\",edgecolor = \"k\")\n",
    "\n",
    "plt.xticks([-1,0,1])\n",
    "\n",
    "plt.ylabel('Frequency of Tweets')\n",
    "plt.xlabel('')\n",
    "plt.title('Distribution')\n",
    "plt.show()"
   ]
  },
  {
   "cell_type": "code",
   "execution_count": 36,
   "id": "f34fc0f3",
   "metadata": {},
   "outputs": [
    {
     "name": "stderr",
     "output_type": "stream",
     "text": [
      "[nltk_data] Downloading package stopwords to\n",
      "[nltk_data]     C:\\Users\\Mustafa\\AppData\\Roaming\\nltk_data...\n",
      "[nltk_data]   Unzipping corpora\\stopwords.zip.\n"
     ]
    },
    {
     "data": {
      "text/plain": [
       "True"
      ]
     },
     "execution_count": 36,
     "metadata": {},
     "output_type": "execute_result"
    }
   ],
   "source": [
    "nltk.download('stopwords')"
   ]
  },
  {
   "cell_type": "code",
   "execution_count": 37,
   "id": "b13e2435",
   "metadata": {},
   "outputs": [
    {
     "data": {
      "text/plain": [
       "{'acaba',\n",
       " 'ama',\n",
       " 'aslında',\n",
       " 'az',\n",
       " 'bazı',\n",
       " 'belki',\n",
       " 'biri',\n",
       " 'birkaç',\n",
       " 'birşey',\n",
       " 'biz',\n",
       " 'bu',\n",
       " 'da',\n",
       " 'daha',\n",
       " 'de',\n",
       " 'defa',\n",
       " 'diye',\n",
       " 'en',\n",
       " 'eğer',\n",
       " 'gibi',\n",
       " 'hem',\n",
       " 'hep',\n",
       " 'hepsi',\n",
       " 'her',\n",
       " 'hiç',\n",
       " 'ile',\n",
       " 'ise',\n",
       " 'için',\n",
       " 'kez',\n",
       " 'ki',\n",
       " 'kim',\n",
       " 'mu',\n",
       " 'mü',\n",
       " 'mı',\n",
       " 'nasıl',\n",
       " 'ne',\n",
       " 'neden',\n",
       " 'nerde',\n",
       " 'nerede',\n",
       " 'nereye',\n",
       " 'niye',\n",
       " 'niçin',\n",
       " 'o',\n",
       " 'sanki',\n",
       " 'siz',\n",
       " 'tüm',\n",
       " 've',\n",
       " 'veya',\n",
       " 'ya',\n",
       " 'yani',\n",
       " 'çok',\n",
       " 'çünkü',\n",
       " 'şey',\n",
       " 'şu'}"
      ]
     },
     "execution_count": 37,
     "metadata": {},
     "output_type": "execute_result"
    }
   ],
   "source": [
    "import nltk\n",
    "from nltk.corpus import stopwords\n",
    "from nltk.tokenize import word_tokenize\n",
    "stop_words = set(stopwords.words('turkish'))\n",
    "stop_words"
   ]
  }
 ],
 "metadata": {
  "kernelspec": {
   "display_name": "Python 3 (ipykernel)",
   "language": "python",
   "name": "python3"
  },
  "language_info": {
   "codemirror_mode": {
    "name": "ipython",
    "version": 3
   },
   "file_extension": ".py",
   "mimetype": "text/x-python",
   "name": "python",
   "nbconvert_exporter": "python",
   "pygments_lexer": "ipython3",
   "version": "3.11.5"
  }
 },
 "nbformat": 4,
 "nbformat_minor": 5
}
